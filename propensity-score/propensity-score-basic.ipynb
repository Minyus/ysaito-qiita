{
 "cells": [
  {
   "cell_type": "markdown",
   "metadata": {},
   "source": [
    "# Qiita ~ 傾向スコアでセレクションバイアスを補正する~"
   ]
  },
  {
   "cell_type": "code",
   "execution_count": 68,
   "metadata": {},
   "outputs": [],
   "source": [
    "import numpy as np\n",
    "import pandas as pd\n",
    "import scipy as sp\n",
    "import matplotlib.pyplot as plt\n",
    "%matplotlib inline\n",
    "import sklearn\n",
    "import statsmodels.api as sm\n",
    "import random\n",
    "\n",
    "from operator import itemgetter\n",
    "from pandas import DataFrame, Series\n",
    "from plotly.offline import iplot, plot, init_notebook_mode\n",
    "from plotly.graph_objs import Histogram, Box, Scatter, Figure, Layout, Bar\n",
    "\n",
    "from sklearn.cross_validation import train_test_split, cross_val_score, StratifiedKFold\n",
    "from sklearn.decomposition import PCA\n",
    "from sklearn.ensemble import RandomForestRegressor, GradientBoostingRegressor\n",
    "from sklearn.feature_selection import SelectFromModel, SelectKBest\n",
    "from sklearn.grid_search import GridSearchCV, RandomizedSearchCV\n",
    "from sklearn.kernel_ridge import KernelRidge\n",
    "from sklearn.linear_model import LogisticRegression, LinearRegression, ElasticNet, Ridge\n",
    "from sklearn.metrics import mean_absolute_error, mean_squared_error, r2_score, roc_curve, auc, confusion_matrix, precision_recall_curve\n",
    "from sklearn.model_selection import KFold, TimeSeriesSplit\n",
    "from sklearn.preprocessing import StandardScaler, RobustScaler, Normalizer\n",
    "from sklearn.pipeline import Pipeline\n",
    "from sklearn.svm import SVR, LinearSVR"
   ]
  },
  {
   "cell_type": "code",
   "execution_count": null,
   "metadata": {},
   "outputs": [],
   "source": []
  },
  {
   "cell_type": "markdown",
   "metadata": {},
   "source": [
    "### RHC Data"
   ]
  },
  {
   "cell_type": "code",
   "execution_count": 45,
   "metadata": {},
   "outputs": [],
   "source": [
    "### データの読み込み\n",
    "data_df = pd.read_csv(\"http://biostat.mc.vanderbilt.edu/wiki/pub/Main/DataSets/rhc.csv\")\n",
    "#data_df.head()"
   ]
  },
  {
   "cell_type": "code",
   "execution_count": 46,
   "metadata": {},
   "outputs": [
    {
     "data": {
      "text/html": [
       "<div>\n",
       "<style scoped>\n",
       "    .dataframe tbody tr th:only-of-type {\n",
       "        vertical-align: middle;\n",
       "    }\n",
       "\n",
       "    .dataframe tbody tr th {\n",
       "        vertical-align: top;\n",
       "    }\n",
       "\n",
       "    .dataframe thead th {\n",
       "        text-align: right;\n",
       "    }\n",
       "</style>\n",
       "<table border=\"1\" class=\"dataframe\">\n",
       "  <thead>\n",
       "    <tr style=\"text-align: right;\">\n",
       "      <th>swang1</th>\n",
       "      <th>No RHC</th>\n",
       "      <th>RHC</th>\n",
       "    </tr>\n",
       "    <tr>\n",
       "      <th>death</th>\n",
       "      <th></th>\n",
       "      <th></th>\n",
       "    </tr>\n",
       "  </thead>\n",
       "  <tbody>\n",
       "    <tr>\n",
       "      <th>No</th>\n",
       "      <td>1315</td>\n",
       "      <td>698</td>\n",
       "    </tr>\n",
       "    <tr>\n",
       "      <th>Yes</th>\n",
       "      <td>2236</td>\n",
       "      <td>1486</td>\n",
       "    </tr>\n",
       "  </tbody>\n",
       "</table>\n",
       "</div>"
      ],
      "text/plain": [
       "swang1  No RHC   RHC\n",
       "death               \n",
       "No        1315   698\n",
       "Yes       2236  1486"
      ]
     },
     "execution_count": 46,
     "metadata": {},
     "output_type": "execute_result"
    }
   ],
   "source": [
    "### 死亡率とRHCの有無のクロス集計\n",
    "pd.crosstab(data_df.death, data_df.swang1)"
   ]
  },
  {
   "cell_type": "code",
   "execution_count": 47,
   "metadata": {},
   "outputs": [
    {
     "data": {
      "text/plain": [
       "0.050721150622586864"
      ]
     },
     "execution_count": 47,
     "metadata": {},
     "output_type": "execute_result"
    }
   ],
   "source": [
    "### RHCの有無での死亡率の差を計算\n",
    "(1486 / (698 + 1486)) - (2236 / (1315 + 2236))"
   ]
  },
  {
   "cell_type": "code",
   "execution_count": 48,
   "metadata": {},
   "outputs": [],
   "source": [
    "### 用いる説明変数群、詳細はデータセットの記述を参照\n",
    "cols = [\"cat1\", \"sex\", \"race\", \"edu\", \"income\", \n",
    "        \"resp\", \"card\", \"neuro\", \"gastr\", \"renal\", \"meta\", \"hema\", \"seps\", \"trauma\", \"ortho\", \n",
    "        \"das2d3pc\", \"dnr1\", \"ca\", \"surv2md1\", \"aps1\", \"scoma1\", \"wtkilo1\", \"temp1\",\n",
    "        \"resp1\", \"hrt1\", \"pafi1\", \"paco21\", \"ph1\", \"wblc1\", \"hema1\", \"sod1\", \"pot1\", \"crea1\",\n",
    "        \"bili1\", \"alb1\", \"cardiohx\", \"chfhx\", \"dementhx\", \"psychhx\", \"chrpulhx\", \"renalhx\",\n",
    "        \"liverhx\", \"gibledhx\", \"immunhx\", \"transhx\", \"amihx\",\n",
    "        \"age\", \"meanbp1\"]\n",
    "\n",
    "### 説明変数中のカテゴリカル変数\n",
    "categorical_columns = [\"cat1\", \"sex\", \"race\", \"edu\", \"income\",\"ca\", \"dnr1\",\n",
    "                       \"resp\", \"card\", \"neuro\", \"gastr\", \"renal\", \"meta\", \"hema\", \"seps\", \"trauma\", \"ortho\"]\n",
    "\n",
    "### カテゴリカル変数のダミー化\n",
    "X = data_df[cols]\n",
    "dummy = pd.get_dummies(X[categorical_columns], drop_first=True)\n",
    "X = pd.concat([X, dummy], axis=1)\n",
    "X = X.drop(categorical_columns, axis=1)\n",
    "\n",
    "### 切片の導入\n",
    "X[\"Intercept\"] = 1\n",
    "\n",
    "### RHC有無のダミー変数\n",
    "z1 = pd.get_dummies(data_df[\"swang1\"])[\"RHC\"]\n",
    "\n",
    "### 目的変数\n",
    "y = pd.get_dummies(data_df[\"death\"])[\"Yes\"]"
   ]
  },
  {
   "cell_type": "code",
   "execution_count": 50,
   "metadata": {
    "scrolled": true
   },
   "outputs": [
    {
     "name": "stdout",
     "output_type": "stream",
     "text": [
      "Optimization terminated successfully.\n",
      "         Current function value: inf\n",
      "         Iterations 6\n"
     ]
    },
    {
     "name": "stderr",
     "output_type": "stream",
     "text": [
      "/opt/anaconda3/lib/python3.6/site-packages/statsmodels/discrete/discrete_model.py:1214: RuntimeWarning:\n",
      "\n",
      "overflow encountered in exp\n",
      "\n",
      "/opt/anaconda3/lib/python3.6/site-packages/statsmodels/discrete/discrete_model.py:1264: RuntimeWarning:\n",
      "\n",
      "divide by zero encountered in log\n",
      "\n"
     ]
    }
   ],
   "source": [
    "### StatsModelsのLogitにより傾向スコアを推定\n",
    "glm = sm.Logit(z1, X)\n",
    "result = glm.fit()\n",
    "ps = result.predict(X)\n",
    "#ps"
   ]
  },
  {
   "cell_type": "code",
   "execution_count": 51,
   "metadata": {},
   "outputs": [],
   "source": [
    "#result.summary2()"
   ]
  },
  {
   "cell_type": "code",
   "execution_count": 52,
   "metadata": {},
   "outputs": [
    {
     "data": {
      "text/plain": [
       "0.7963133740379587"
      ]
     },
     "execution_count": 52,
     "metadata": {},
     "output_type": "execute_result"
    }
   ],
   "source": [
    "### c統計量としてAUCをを計算\n",
    "fpr, tpr, thresholds = roc_curve(z1, ps)\n",
    "auc(fpr, tpr)"
   ]
  },
  {
   "cell_type": "code",
   "execution_count": null,
   "metadata": {},
   "outputs": [],
   "source": []
  },
  {
   "cell_type": "code",
   "execution_count": 53,
   "metadata": {},
   "outputs": [
    {
     "data": {
      "text/plain": [
       "0.05907512789883507"
      ]
     },
     "execution_count": 53,
     "metadata": {},
     "output_type": "execute_result"
    }
   ],
   "source": [
    "### IPWによりATEを推定\n",
    "ipwe1 = sum((z1*y)/ps)/sum(z1/ps) \n",
    "ipwe0 = sum(((1-z1)*y)/(1-ps))/sum((1-z1)/(1-ps)) \n",
    "ATE = ipwe1 - ipwe0\n",
    "ATE"
   ]
  },
  {
   "cell_type": "code",
   "execution_count": null,
   "metadata": {},
   "outputs": [],
   "source": []
  },
  {
   "cell_type": "markdown",
   "metadata": {},
   "source": [
    "### CM Data"
   ]
  },
  {
   "cell_type": "code",
   "execution_count": 54,
   "metadata": {},
   "outputs": [],
   "source": [
    "### データの読み込み\n",
    "data_df = pd.read_csv('https://github.com/iwanami-datascience/vol3/raw/master/kato%26hoshino/q_data_x.csv')\n",
    "#data_df.head()"
   ]
  },
  {
   "cell_type": "code",
   "execution_count": null,
   "metadata": {},
   "outputs": [],
   "source": []
  },
  {
   "cell_type": "code",
   "execution_count": 55,
   "metadata": {},
   "outputs": [
    {
     "data": {
      "text/html": [
       "<div>\n",
       "<style scoped>\n",
       "    .dataframe tbody tr th:only-of-type {\n",
       "        vertical-align: middle;\n",
       "    }\n",
       "\n",
       "    .dataframe tbody tr th {\n",
       "        vertical-align: top;\n",
       "    }\n",
       "\n",
       "    .dataframe thead th {\n",
       "        text-align: right;\n",
       "    }\n",
       "</style>\n",
       "<table border=\"1\" class=\"dataframe\">\n",
       "  <thead>\n",
       "    <tr style=\"text-align: right;\">\n",
       "      <th>cm_dummy</th>\n",
       "      <th>0</th>\n",
       "      <th>1</th>\n",
       "    </tr>\n",
       "    <tr>\n",
       "      <th>gamedummy</th>\n",
       "      <th></th>\n",
       "      <th></th>\n",
       "    </tr>\n",
       "  </thead>\n",
       "  <tbody>\n",
       "    <tr>\n",
       "      <th>0</th>\n",
       "      <td>5428</td>\n",
       "      <td>3832</td>\n",
       "    </tr>\n",
       "    <tr>\n",
       "      <th>1</th>\n",
       "      <td>428</td>\n",
       "      <td>312</td>\n",
       "    </tr>\n",
       "  </tbody>\n",
       "</table>\n",
       "</div>"
      ],
      "text/plain": [
       "cm_dummy      0     1\n",
       "gamedummy            \n",
       "0          5428  3832\n",
       "1           428   312"
      ]
     },
     "execution_count": 55,
     "metadata": {},
     "output_type": "execute_result"
    }
   ],
   "source": [
    "### アプリ利用ダミーとCM視聴有無のクロス集計\n",
    "pd.crosstab(data_df.gamedummy, data_df.cm_dummy)"
   ]
  },
  {
   "cell_type": "code",
   "execution_count": 56,
   "metadata": {},
   "outputs": [
    {
     "data": {
      "text/plain": [
       "0.002202143595586223"
      ]
     },
     "execution_count": 56,
     "metadata": {},
     "output_type": "execute_result"
    }
   ],
   "source": [
    "### CM視聴有無でのアプリ利用率の差を計算\n",
    "(312 / (3832 + 312)) - (428 / (5428 + 428))"
   ]
  },
  {
   "cell_type": "code",
   "execution_count": 57,
   "metadata": {},
   "outputs": [
    {
     "data": {
      "text/plain": [
       "-1.4845493913116865"
      ]
     },
     "execution_count": 57,
     "metadata": {},
     "output_type": "execute_result"
    }
   ],
   "source": [
    "### CM視聴有無でのアプリ利用回数の差を計算\n",
    "data_df[data_df.cm_dummy == 1].gamecount.mean() - data_df[data_df.cm_dummy == 0].gamecount.mean()"
   ]
  },
  {
   "cell_type": "code",
   "execution_count": 58,
   "metadata": {},
   "outputs": [
    {
     "data": {
      "text/plain": [
       "-629.6405765396544"
      ]
     },
     "execution_count": 58,
     "metadata": {},
     "output_type": "execute_result"
    }
   ],
   "source": [
    "### CM視聴有無でのアプリ利用時間の差を計算\n",
    "data_df[data_df.cm_dummy == 1].gamesecond.mean() - data_df[data_df.cm_dummy == 0].gamesecond.mean()"
   ]
  },
  {
   "cell_type": "code",
   "execution_count": null,
   "metadata": {},
   "outputs": [],
   "source": []
  },
  {
   "cell_type": "code",
   "execution_count": 59,
   "metadata": {},
   "outputs": [
    {
     "name": "stderr",
     "output_type": "stream",
     "text": [
      "/opt/anaconda3/lib/python3.6/site-packages/ipykernel_launcher.py:8: SettingWithCopyWarning:\n",
      "\n",
      "\n",
      "A value is trying to be set on a copy of a slice from a DataFrame.\n",
      "Try using .loc[row_indexer,col_indexer] = value instead\n",
      "\n",
      "See the caveats in the documentation: http://pandas.pydata.org/pandas-docs/stable/indexing.html#indexing-view-versus-copy\n",
      "\n"
     ]
    }
   ],
   "source": [
    "### 説明変数\n",
    "cols = [\"age\", \"sex\", \"TVwatch_day\", \"marry_dummy\", \"child_dummy\", \"inc\", \"pmoney\", \"area_kanto\", \"area_tokai\",\n",
    "        \"area_keihanshin\", \"job_dummy1\", \"job_dummy2\", \"job_dummy3\", \"job_dummy4\", \"job_dummy5\", \"job_dummy6\",\n",
    "        \"fam_str_dummy1\", \"fam_str_dummy2\", \"fam_str_dummy3\", \"fam_str_dummy4\"]\n",
    "X = data_df[cols]\n",
    "\n",
    "### 切片の導入\n",
    "X[\"Intercept\"] = 1\n",
    "\n",
    "### CM視聴有無ダミー\n",
    "z1 = data_df.cm_dummy\n",
    "\n",
    "### 目的変数群（1:アプリ利用ダミー, 2:アプリ利用回数、3:アプリ利用時間）\n",
    "y1 = data_df.gamedummy\n",
    "y2 = data_df.gamecount\n",
    "y3 = data_df.gamesecond"
   ]
  },
  {
   "cell_type": "code",
   "execution_count": 61,
   "metadata": {
    "scrolled": true
   },
   "outputs": [
    {
     "name": "stdout",
     "output_type": "stream",
     "text": [
      "Optimization terminated successfully.\n",
      "         Current function value: 0.542152\n",
      "         Iterations 6\n"
     ]
    }
   ],
   "source": [
    "### StatsModelsのLogitにより傾向スコアを推定\n",
    "glm = sm.Logit(z1, X)\n",
    "result = glm.fit()\n",
    "ps = result.predict(X)\n",
    "#ps"
   ]
  },
  {
   "cell_type": "code",
   "execution_count": 63,
   "metadata": {
    "scrolled": true
   },
   "outputs": [],
   "source": [
    "#result.summary2()"
   ]
  },
  {
   "cell_type": "code",
   "execution_count": 64,
   "metadata": {},
   "outputs": [
    {
     "data": {
      "text/plain": [
       "0.7917012811992321"
      ]
     },
     "execution_count": 64,
     "metadata": {},
     "output_type": "execute_result"
    }
   ],
   "source": [
    "### c統計量としてAUCをを計算\n",
    "fpr, tpr, thresholds = roc_curve(z1, ps)\n",
    "auc(fpr, tpr)"
   ]
  },
  {
   "cell_type": "code",
   "execution_count": 65,
   "metadata": {},
   "outputs": [
    {
     "data": {
      "text/plain": [
       "0.032311773305120556"
      ]
     },
     "execution_count": 65,
     "metadata": {},
     "output_type": "execute_result"
    }
   ],
   "source": [
    "### IPWによりアプリ利用ダミーへのATEを推定\n",
    "ipwe11 = sum((z1*y1)/ps)/sum(z1/ps) ## Treated\n",
    "ipwe10 = sum(((1-z1)*y1)/(1-ps))/sum((1-z1)/(1-ps)) ## Control\n",
    "ATE1 = ipwe11 - ipwe10 \n",
    "ATE1"
   ]
  },
  {
   "cell_type": "code",
   "execution_count": 66,
   "metadata": {},
   "outputs": [
    {
     "data": {
      "text/plain": [
       "5.349029566474508"
      ]
     },
     "execution_count": 66,
     "metadata": {},
     "output_type": "execute_result"
    }
   ],
   "source": [
    "### IPWによりアプリ利用回数へのATEを推定\n",
    "ipwe21 = sum((z1*y2)/ps)/sum(z1/ps) ## Treated\n",
    "ipwe20 = sum(((1-z1)*y2)/(1-ps))/sum((1-z1)/(1-ps)) ## Control\n",
    "ATE2 = ipwe21 - ipwe20\n",
    "ATE2"
   ]
  },
  {
   "cell_type": "code",
   "execution_count": 67,
   "metadata": {},
   "outputs": [
    {
     "data": {
      "text/plain": [
       "1513.69969078248"
      ]
     },
     "execution_count": 67,
     "metadata": {},
     "output_type": "execute_result"
    }
   ],
   "source": [
    "### IPWによりアプリ利用時間へのATEを推定\n",
    "ipwe31 = sum((z1*y3)/ps)/sum(z1/ps) \n",
    "ipwe30 = sum(((1-z1)*y3)/(1-ps))/sum((1-z1)/(1-ps)) \n",
    "ATE3 = ipwe31 - ipwe30 \n",
    "ATE3"
   ]
  },
  {
   "cell_type": "code",
   "execution_count": null,
   "metadata": {},
   "outputs": [],
   "source": []
  }
 ],
 "metadata": {
  "kernelspec": {
   "display_name": "Python 3",
   "language": "python",
   "name": "python3"
  },
  "language_info": {
   "codemirror_mode": {
    "name": "ipython",
    "version": 3
   },
   "file_extension": ".py",
   "mimetype": "text/x-python",
   "name": "python",
   "nbconvert_exporter": "python",
   "pygments_lexer": "ipython3",
   "version": "3.6.4"
  }
 },
 "nbformat": 4,
 "nbformat_minor": 2
}
