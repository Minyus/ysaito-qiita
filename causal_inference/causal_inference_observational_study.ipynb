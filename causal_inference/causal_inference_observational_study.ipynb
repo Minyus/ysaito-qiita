{
 "cells": [
  {
   "cell_type": "markdown",
   "metadata": {},
   "source": [
    "# Qiita ~ A/Bテストは無理だと言われたあなたへ ~"
   ]
  },
  {
   "cell_type": "code",
   "execution_count": 1,
   "metadata": {},
   "outputs": [],
   "source": [
    "import numpy as np\n",
    "import pandas as pd\n",
    "\n",
    "from pandas import DataFrame\n",
    "from plotly.graph_objs import Bar, Figure, Layout\n",
    "from plotly.offline import iplot, plot\n",
    "\n",
    "from sklearn.metrics import roc_auc_score\n",
    "import statsmodels.api as sm"
   ]
  },
  {
   "cell_type": "code",
   "execution_count": null,
   "metadata": {},
   "outputs": [],
   "source": []
  },
  {
   "cell_type": "markdown",
   "metadata": {},
   "source": [
    "### CM Data"
   ]
  },
  {
   "cell_type": "code",
   "execution_count": 2,
   "metadata": {},
   "outputs": [
    {
     "data": {
      "text/html": [
       "<div>\n",
       "<style scoped>\n",
       "    .dataframe tbody tr th:only-of-type {\n",
       "        vertical-align: middle;\n",
       "    }\n",
       "\n",
       "    .dataframe tbody tr th {\n",
       "        vertical-align: top;\n",
       "    }\n",
       "\n",
       "    .dataframe thead th {\n",
       "        text-align: right;\n",
       "    }\n",
       "</style>\n",
       "<table border=\"1\" class=\"dataframe\">\n",
       "  <thead>\n",
       "    <tr style=\"text-align: right;\">\n",
       "      <th></th>\n",
       "      <th>cm_dummy</th>\n",
       "      <th>gamedummy</th>\n",
       "      <th>area_kanto</th>\n",
       "      <th>area_keihan</th>\n",
       "      <th>area_tokai</th>\n",
       "      <th>area_keihanshin</th>\n",
       "      <th>age</th>\n",
       "      <th>sex</th>\n",
       "      <th>marry_dummy</th>\n",
       "      <th>job_dummy1</th>\n",
       "      <th>...</th>\n",
       "      <th>T</th>\n",
       "      <th>F1</th>\n",
       "      <th>F2</th>\n",
       "      <th>F3</th>\n",
       "      <th>M1</th>\n",
       "      <th>M2</th>\n",
       "      <th>M3</th>\n",
       "      <th>TVwatch_day</th>\n",
       "      <th>gamesecond</th>\n",
       "      <th>gamecount</th>\n",
       "    </tr>\n",
       "  </thead>\n",
       "  <tbody>\n",
       "    <tr>\n",
       "      <th>0</th>\n",
       "      <td>0</td>\n",
       "      <td>0</td>\n",
       "      <td>0</td>\n",
       "      <td>0</td>\n",
       "      <td>0</td>\n",
       "      <td>1</td>\n",
       "      <td>44.5</td>\n",
       "      <td>1</td>\n",
       "      <td>1</td>\n",
       "      <td>1</td>\n",
       "      <td>...</td>\n",
       "      <td>0</td>\n",
       "      <td>0</td>\n",
       "      <td>0</td>\n",
       "      <td>0</td>\n",
       "      <td>0</td>\n",
       "      <td>1</td>\n",
       "      <td>0</td>\n",
       "      <td>33.427600</td>\n",
       "      <td>0</td>\n",
       "      <td>0</td>\n",
       "    </tr>\n",
       "    <tr>\n",
       "      <th>1</th>\n",
       "      <td>0</td>\n",
       "      <td>0</td>\n",
       "      <td>0</td>\n",
       "      <td>1</td>\n",
       "      <td>0</td>\n",
       "      <td>0</td>\n",
       "      <td>34.5</td>\n",
       "      <td>1</td>\n",
       "      <td>1</td>\n",
       "      <td>1</td>\n",
       "      <td>...</td>\n",
       "      <td>0</td>\n",
       "      <td>0</td>\n",
       "      <td>0</td>\n",
       "      <td>0</td>\n",
       "      <td>0</td>\n",
       "      <td>1</td>\n",
       "      <td>0</td>\n",
       "      <td>31.542862</td>\n",
       "      <td>0</td>\n",
       "      <td>0</td>\n",
       "    </tr>\n",
       "    <tr>\n",
       "      <th>2</th>\n",
       "      <td>0</td>\n",
       "      <td>0</td>\n",
       "      <td>0</td>\n",
       "      <td>1</td>\n",
       "      <td>0</td>\n",
       "      <td>0</td>\n",
       "      <td>24.5</td>\n",
       "      <td>1</td>\n",
       "      <td>0</td>\n",
       "      <td>0</td>\n",
       "      <td>...</td>\n",
       "      <td>0</td>\n",
       "      <td>0</td>\n",
       "      <td>0</td>\n",
       "      <td>0</td>\n",
       "      <td>1</td>\n",
       "      <td>0</td>\n",
       "      <td>0</td>\n",
       "      <td>37.825805</td>\n",
       "      <td>0</td>\n",
       "      <td>0</td>\n",
       "    </tr>\n",
       "    <tr>\n",
       "      <th>3</th>\n",
       "      <td>0</td>\n",
       "      <td>0</td>\n",
       "      <td>0</td>\n",
       "      <td>1</td>\n",
       "      <td>0</td>\n",
       "      <td>0</td>\n",
       "      <td>44.5</td>\n",
       "      <td>1</td>\n",
       "      <td>1</td>\n",
       "      <td>1</td>\n",
       "      <td>...</td>\n",
       "      <td>0</td>\n",
       "      <td>0</td>\n",
       "      <td>0</td>\n",
       "      <td>0</td>\n",
       "      <td>0</td>\n",
       "      <td>1</td>\n",
       "      <td>0</td>\n",
       "      <td>36.345911</td>\n",
       "      <td>0</td>\n",
       "      <td>0</td>\n",
       "    </tr>\n",
       "    <tr>\n",
       "      <th>4</th>\n",
       "      <td>0</td>\n",
       "      <td>0</td>\n",
       "      <td>0</td>\n",
       "      <td>1</td>\n",
       "      <td>0</td>\n",
       "      <td>0</td>\n",
       "      <td>34.5</td>\n",
       "      <td>1</td>\n",
       "      <td>1</td>\n",
       "      <td>1</td>\n",
       "      <td>...</td>\n",
       "      <td>0</td>\n",
       "      <td>0</td>\n",
       "      <td>0</td>\n",
       "      <td>0</td>\n",
       "      <td>1</td>\n",
       "      <td>0</td>\n",
       "      <td>0</td>\n",
       "      <td>49.344942</td>\n",
       "      <td>0</td>\n",
       "      <td>0</td>\n",
       "    </tr>\n",
       "  </tbody>\n",
       "</table>\n",
       "<p>5 rows × 35 columns</p>\n",
       "</div>"
      ],
      "text/plain": [
       "   cm_dummy  gamedummy  area_kanto  area_keihan  area_tokai  area_keihanshin  \\\n",
       "0         0          0           0            0           0                1   \n",
       "1         0          0           0            1           0                0   \n",
       "2         0          0           0            1           0                0   \n",
       "3         0          0           0            1           0                0   \n",
       "4         0          0           0            1           0                0   \n",
       "\n",
       "    age  sex  marry_dummy  job_dummy1    ...      T  F1  F2  F3  M1  M2  M3  \\\n",
       "0  44.5    1            1           1    ...      0   0   0   0   0   1   0   \n",
       "1  34.5    1            1           1    ...      0   0   0   0   0   1   0   \n",
       "2  24.5    1            0           0    ...      0   0   0   0   1   0   0   \n",
       "3  44.5    1            1           1    ...      0   0   0   0   0   1   0   \n",
       "4  34.5    1            1           1    ...      0   0   0   0   1   0   0   \n",
       "\n",
       "   TVwatch_day  gamesecond  gamecount  \n",
       "0    33.427600           0          0  \n",
       "1    31.542862           0          0  \n",
       "2    37.825805           0          0  \n",
       "3    36.345911           0          0  \n",
       "4    49.344942           0          0  \n",
       "\n",
       "[5 rows x 35 columns]"
      ]
     },
     "execution_count": 2,
     "metadata": {},
     "output_type": "execute_result"
    }
   ],
   "source": [
    "# データの読み込み\n",
    "df = pd.read_csv('https://github.com/iwanami-datascience/vol3/raw/master/kato%26hoshino/q_data_x.csv')\n",
    "df.head()"
   ]
  },
  {
   "cell_type": "code",
   "execution_count": 3,
   "metadata": {},
   "outputs": [
    {
     "data": {
      "text/plain": [
       "0.0022"
      ]
     },
     "execution_count": 3,
     "metadata": {},
     "output_type": "execute_result"
    }
   ],
   "source": [
    "# CM視聴有無でのアプリ利用率の差を計算\n",
    "diff1 = np.round(np.mean(df[df.cm_dummy == 1].gamedummy.values) - np.mean(df[df.cm_dummy == 0].gamedummy.values), 4)\n",
    "diff1"
   ]
  },
  {
   "cell_type": "code",
   "execution_count": 4,
   "metadata": {},
   "outputs": [
    {
     "data": {
      "text/plain": [
       "-1.48"
      ]
     },
     "execution_count": 4,
     "metadata": {},
     "output_type": "execute_result"
    }
   ],
   "source": [
    "# CM視聴有無でのアプリ利用回数の差を計算\n",
    "diff2 = np.round(np.mean(df[df.cm_dummy == 1].gamecount.values) - np.mean(df[df.cm_dummy == 0].gamecount.values), 2)\n",
    "diff2 "
   ]
  },
  {
   "cell_type": "code",
   "execution_count": 5,
   "metadata": {},
   "outputs": [
    {
     "data": {
      "text/plain": [
       "-629.6"
      ]
     },
     "execution_count": 5,
     "metadata": {},
     "output_type": "execute_result"
    }
   ],
   "source": [
    "# CM視聴有無でのアプリ利用時間の差を計算\n",
    "diff3 = np.round(np.mean(df[df.cm_dummy == 1].gamesecond.values) - np.mean(df[df.cm_dummy == 0].gamesecond.values), 1)\n",
    "diff3"
   ]
  },
  {
   "cell_type": "code",
   "execution_count": null,
   "metadata": {},
   "outputs": [],
   "source": []
  },
  {
   "cell_type": "code",
   "execution_count": 6,
   "metadata": {},
   "outputs": [],
   "source": [
    "# 説明変数\n",
    "cols = [\"age\", \"sex\", \"TVwatch_day\", \"marry_dummy\", \"child_dummy\", \"inc\", \"pmoney\",\n",
    "        \"area_kanto\", \"area_tokai\", \"area_keihanshin\",\n",
    "        \"job_dummy1\", \"job_dummy2\", \"job_dummy3\", \"job_dummy4\", \"job_dummy5\", \"job_dummy6\",\n",
    "        \"fam_str_dummy1\", \"fam_str_dummy2\", \"fam_str_dummy3\", \"fam_str_dummy4\"]\n",
    "df[\"intercept\"] = 1\n",
    "X = df[cols + [\"intercept\"]].values\n",
    "\n",
    "# CM視聴有無ダミー\n",
    "w = df.cm_dummy.values\n",
    "\n",
    "# 目的変数群（1:アプリ利用ダミー, 2:アプリ利用回数、3:アプリ利用時間）\n",
    "y1, y2, y3 = df.gamedummy.values, df.gamecount.values, df.gamesecond.values"
   ]
  },
  {
   "cell_type": "code",
   "execution_count": 7,
   "metadata": {
    "scrolled": true
   },
   "outputs": [
    {
     "name": "stdout",
     "output_type": "stream",
     "text": [
      "Optimization terminated successfully.\n",
      "         Current function value: 0.542152\n",
      "         Iterations 6\n"
     ]
    }
   ],
   "source": [
    "# LogisticRegressionにより傾向スコアを推定\n",
    "glm = sm.Logit(w, X)\n",
    "result = glm.fit()\n",
    "ps = result.predict(X)"
   ]
  },
  {
   "cell_type": "code",
   "execution_count": 8,
   "metadata": {},
   "outputs": [
    {
     "data": {
      "text/plain": [
       "0.7917012811992321"
      ]
     },
     "execution_count": 8,
     "metadata": {},
     "output_type": "execute_result"
    }
   ],
   "source": [
    "# c統計量としてAUCをを計算\n",
    "roc_auc_score(w, ps)"
   ]
  },
  {
   "cell_type": "code",
   "execution_count": 9,
   "metadata": {},
   "outputs": [
    {
     "data": {
      "text/plain": [
       "0.0323"
      ]
     },
     "execution_count": 9,
     "metadata": {},
     "output_type": "execute_result"
    }
   ],
   "source": [
    "# IPWによりアプリ利用ダミーへのATEを推定\n",
    "ipwe11 = np.sum((w * y1) / ps) / np.sum(w / ps)  # Treated\n",
    "ipwe10 = np.sum(((1 - w) * y1) / (1.0 - ps)) / np.sum((1 - w) / (1.0 - ps))  # Control\n",
    "ate1 = np.round(ipwe11 - ipwe10, 4)\n",
    "ate1"
   ]
  },
  {
   "cell_type": "code",
   "execution_count": 10,
   "metadata": {},
   "outputs": [
    {
     "data": {
      "text/plain": [
       "5.35"
      ]
     },
     "execution_count": 10,
     "metadata": {},
     "output_type": "execute_result"
    }
   ],
   "source": [
    "# IPWによりアプリ利用回数へのATEを推定\n",
    "ipwe21 = np.sum((w * y2) / ps) / np.sum(w / ps)  # Treated\n",
    "ipwe20 = np.sum(((1 - w) * y2) / (1 - ps)) / np.sum((1 - w) / (1 - ps))  # Control\n",
    "ate2 = np.round(ipwe21 - ipwe20, 2)\n",
    "ate2"
   ]
  },
  {
   "cell_type": "code",
   "execution_count": 11,
   "metadata": {},
   "outputs": [
    {
     "data": {
      "text/plain": [
       "1513.7"
      ]
     },
     "execution_count": 11,
     "metadata": {},
     "output_type": "execute_result"
    }
   ],
   "source": [
    "# IPWによりアプリ利用時間へのATEを推定\n",
    "ipwe31 = np.sum((w * y3) / ps) / np.sum(w / ps)\n",
    "ipwe30 = np.sum(((1 - w) * y3) / (1.0 - ps)) / np.sum((1 - w) / (1.0 - ps))\n",
    "ate3 = np.round(ipwe31 - ipwe30, 1)\n",
    "ate3"
   ]
  },
  {
   "cell_type": "code",
   "execution_count": null,
   "metadata": {},
   "outputs": [],
   "source": []
  },
  {
   "cell_type": "markdown",
   "metadata": {},
   "source": [
    "## 結果の描画"
   ]
  },
  {
   "cell_type": "code",
   "execution_count": 12,
   "metadata": {},
   "outputs": [
    {
     "data": {
      "0": {
       "name": "補正前",
       "text": [
        0.0022
       ],
       "textposition": "auto",
       "type": "bar",
       "x": [
        "アプリ利用有無"
       ],
       "y": [
        0.0022
       ]
      },
      "1": {
       "name": "補正後",
       "text": [
        0.0323
       ],
       "textposition": "auto",
       "type": "bar",
       "x": [
        "アプリ利用有無"
       ],
       "y": [
        0.0323
       ]
      },
      "image/png": "[encoded data removed]"
     },
     "metadata": {},
     "output_type": "display_data"
    }
   ],
   "source": [
    "bar11 = Bar(x=[\"アプリ利用有無\"], y=[diff1], text=[diff1], textposition=\"auto\", name=\"補正前\")\n",
    "bar12 = Bar(x=[\"アプリ利用有無\"], y=[ate1], text=[ate1], textposition=\"auto\", name=\"補正後\")\n",
    "fig1 = Figure(data=[bar11, bar12], layout=Layout(barmode=\"group\"))\n",
    "iplot(fig1)"
   ]
  },
  {
   "cell_type": "code",
   "execution_count": 13,
   "metadata": {},
   "outputs": [
    {
     "data": {
      "0": {
       "name": "補正前",
       "text": [
        -1.48
       ],
       "textposition": "auto",
       "type": "bar",
       "x": [
        "アプリ利用回数"
       ],
       "y": [
        -1.48
       ]
      },
      "1": {
       "name": "補正後",
       "text": [
        5.35
       ],
       "textposition": "auto",
       "type": "bar",
       "x": [
        "アプリ利用回数"
       ],
       "y": [
        5.35
       ]
      },
      "image/png": "[encoded data removed]"
     },
     "metadata": {},
     "output_type": "display_data"
    }
   ],
   "source": [
    "bar21 = Bar(x=[\"アプリ利用回数\"], y=[diff2], text=[diff2], textposition=\"auto\", name=\"補正前\")\n",
    "bar22 = Bar(x=[\"アプリ利用回数\"], y=[ate2], text=[np.round(ate2, 2)], textposition=\"auto\", name=\"補正後\")\n",
    "fig2 = Figure(data=[bar21, bar22], layout=Layout(barmode=\"group\"))\n",
    "iplot(fig2)"
   ]
  },
  {
   "cell_type": "code",
   "execution_count": 14,
   "metadata": {},
   "outputs": [
    {
     "data": {
      "0": {
       "name": "補正前",
       "text": [
        -629.6
       ],
       "textposition": "auto",
       "type": "bar",
       "x": [
        "アプリ利用時間"
       ],
       "y": [
        -629.6
       ]
      },
      "1": {
       "name": "補正後",
       "text": [
        1513.7
       ],
       "textposition": "auto",
       "type": "bar",
       "x": [
        "アプリ利用時間"
       ],
       "y": [
        1513.7
       ]
      },
      "image/png": "[encoded data removed]"
     },
     "metadata": {},
     "output_type": "display_data"
    }
   ],
   "source": [
    "bar31 = Bar(x=[\"アプリ利用時間\"], y=[diff3], text=[diff3], textposition=\"auto\", name=\"補正前\")\n",
    "bar32 = Bar(x=[\"アプリ利用時間\"], y=[ate3], text=[ate3], textposition=\"auto\", name=\"補正後\")\n",
    "fig3 = Figure(data=[bar31, bar32], layout=Layout(barmode=\"group\"))\n",
    "iplot(fig3)"
   ]
  },
  {
   "cell_type": "code",
   "execution_count": null,
   "metadata": {},
   "outputs": [],
   "source": []
  },
  {
   "cell_type": "code",
   "execution_count": null,
   "metadata": {},
   "outputs": [],
   "source": []
  }
 ],
 "metadata": {
  "kernelspec": {
   "display_name": "Python 3",
   "language": "python",
   "name": "python3"
  },
  "language_info": {
   "codemirror_mode": {
    "name": "ipython",
    "version": 3
   },
   "file_extension": ".py",
   "mimetype": "text/x-python",
   "name": "python",
   "nbconvert_exporter": "python",
   "pygments_lexer": "ipython3",
   "version": "3.6.6"
  }
 },
 "nbformat": 4,
 "nbformat_minor": 2
}
