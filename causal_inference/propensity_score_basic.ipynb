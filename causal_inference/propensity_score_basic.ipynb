{
 "cells": [
  {
   "cell_type": "markdown",
   "metadata": {},
   "source": [
    "# Qiita ~ 傾向スコアでセレクションバイアスを補正する~"
   ]
  },
  {
   "cell_type": "code",
   "execution_count": 1,
   "metadata": {},
   "outputs": [],
   "source": [
    "import numpy as np\n",
    "import pandas as pd\n",
    "\n",
    "from pandas import DataFrame\n",
    "\n",
    "from sklearn.metrics import roc_auc_score\n",
    "import statsmodels.api as sm"
   ]
  },
  {
   "cell_type": "code",
   "execution_count": null,
   "metadata": {},
   "outputs": [],
   "source": []
  },
  {
   "cell_type": "markdown",
   "metadata": {},
   "source": [
    "### RHC Data"
   ]
  },
  {
   "cell_type": "code",
   "execution_count": 2,
   "metadata": {},
   "outputs": [],
   "source": [
    "# データの読み込み\n",
    "data_df = pd.read_csv(\"http://biostat.mc.vanderbilt.edu/wiki/pub/Main/DataSets/rhc.csv\")\n",
    "#data_df.head()"
   ]
  },
  {
   "cell_type": "code",
   "execution_count": 3,
   "metadata": {},
   "outputs": [
    {
     "data": {
      "text/html": [
       "<div>\n",
       "<style scoped>\n",
       "    .dataframe tbody tr th:only-of-type {\n",
       "        vertical-align: middle;\n",
       "    }\n",
       "\n",
       "    .dataframe tbody tr th {\n",
       "        vertical-align: top;\n",
       "    }\n",
       "\n",
       "    .dataframe thead th {\n",
       "        text-align: right;\n",
       "    }\n",
       "</style>\n",
       "<table border=\"1\" class=\"dataframe\">\n",
       "  <thead>\n",
       "    <tr style=\"text-align: right;\">\n",
       "      <th></th>\n",
       "      <th>Unnamed: 0</th>\n",
       "      <th>cat1</th>\n",
       "      <th>cat2</th>\n",
       "      <th>ca</th>\n",
       "      <th>sadmdte</th>\n",
       "      <th>dschdte</th>\n",
       "      <th>dthdte</th>\n",
       "      <th>lstctdte</th>\n",
       "      <th>death</th>\n",
       "      <th>cardiohx</th>\n",
       "      <th>...</th>\n",
       "      <th>meta</th>\n",
       "      <th>hema</th>\n",
       "      <th>seps</th>\n",
       "      <th>trauma</th>\n",
       "      <th>ortho</th>\n",
       "      <th>adld3p</th>\n",
       "      <th>urin1</th>\n",
       "      <th>race</th>\n",
       "      <th>income</th>\n",
       "      <th>ptid</th>\n",
       "    </tr>\n",
       "  </thead>\n",
       "  <tbody>\n",
       "    <tr>\n",
       "      <th>0</th>\n",
       "      <td>1</td>\n",
       "      <td>COPD</td>\n",
       "      <td>NaN</td>\n",
       "      <td>Yes</td>\n",
       "      <td>11142</td>\n",
       "      <td>11151.0</td>\n",
       "      <td>NaN</td>\n",
       "      <td>11382</td>\n",
       "      <td>No</td>\n",
       "      <td>0</td>\n",
       "      <td>...</td>\n",
       "      <td>No</td>\n",
       "      <td>No</td>\n",
       "      <td>No</td>\n",
       "      <td>No</td>\n",
       "      <td>No</td>\n",
       "      <td>0.0</td>\n",
       "      <td>NaN</td>\n",
       "      <td>white</td>\n",
       "      <td>Under $11k</td>\n",
       "      <td>5</td>\n",
       "    </tr>\n",
       "    <tr>\n",
       "      <th>1</th>\n",
       "      <td>2</td>\n",
       "      <td>MOSF w/Sepsis</td>\n",
       "      <td>NaN</td>\n",
       "      <td>No</td>\n",
       "      <td>11799</td>\n",
       "      <td>11844.0</td>\n",
       "      <td>11844.0</td>\n",
       "      <td>11844</td>\n",
       "      <td>Yes</td>\n",
       "      <td>1</td>\n",
       "      <td>...</td>\n",
       "      <td>No</td>\n",
       "      <td>No</td>\n",
       "      <td>Yes</td>\n",
       "      <td>No</td>\n",
       "      <td>No</td>\n",
       "      <td>NaN</td>\n",
       "      <td>1437.0</td>\n",
       "      <td>white</td>\n",
       "      <td>Under $11k</td>\n",
       "      <td>7</td>\n",
       "    </tr>\n",
       "    <tr>\n",
       "      <th>2</th>\n",
       "      <td>3</td>\n",
       "      <td>MOSF w/Malignancy</td>\n",
       "      <td>MOSF w/Sepsis</td>\n",
       "      <td>Yes</td>\n",
       "      <td>12083</td>\n",
       "      <td>12143.0</td>\n",
       "      <td>NaN</td>\n",
       "      <td>12400</td>\n",
       "      <td>No</td>\n",
       "      <td>0</td>\n",
       "      <td>...</td>\n",
       "      <td>No</td>\n",
       "      <td>No</td>\n",
       "      <td>No</td>\n",
       "      <td>No</td>\n",
       "      <td>No</td>\n",
       "      <td>NaN</td>\n",
       "      <td>599.0</td>\n",
       "      <td>white</td>\n",
       "      <td>$25-$50k</td>\n",
       "      <td>9</td>\n",
       "    </tr>\n",
       "    <tr>\n",
       "      <th>3</th>\n",
       "      <td>4</td>\n",
       "      <td>ARF</td>\n",
       "      <td>NaN</td>\n",
       "      <td>No</td>\n",
       "      <td>11146</td>\n",
       "      <td>11183.0</td>\n",
       "      <td>11183.0</td>\n",
       "      <td>11182</td>\n",
       "      <td>Yes</td>\n",
       "      <td>0</td>\n",
       "      <td>...</td>\n",
       "      <td>No</td>\n",
       "      <td>No</td>\n",
       "      <td>No</td>\n",
       "      <td>No</td>\n",
       "      <td>No</td>\n",
       "      <td>NaN</td>\n",
       "      <td>NaN</td>\n",
       "      <td>white</td>\n",
       "      <td>$11-$25k</td>\n",
       "      <td>10</td>\n",
       "    </tr>\n",
       "    <tr>\n",
       "      <th>4</th>\n",
       "      <td>5</td>\n",
       "      <td>MOSF w/Sepsis</td>\n",
       "      <td>NaN</td>\n",
       "      <td>No</td>\n",
       "      <td>12035</td>\n",
       "      <td>12037.0</td>\n",
       "      <td>12037.0</td>\n",
       "      <td>12036</td>\n",
       "      <td>Yes</td>\n",
       "      <td>0</td>\n",
       "      <td>...</td>\n",
       "      <td>No</td>\n",
       "      <td>No</td>\n",
       "      <td>No</td>\n",
       "      <td>No</td>\n",
       "      <td>No</td>\n",
       "      <td>NaN</td>\n",
       "      <td>64.0</td>\n",
       "      <td>white</td>\n",
       "      <td>Under $11k</td>\n",
       "      <td>11</td>\n",
       "    </tr>\n",
       "  </tbody>\n",
       "</table>\n",
       "<p>5 rows × 63 columns</p>\n",
       "</div>"
      ],
      "text/plain": [
       "   Unnamed: 0               cat1           cat2   ca  sadmdte  dschdte  \\\n",
       "0           1               COPD            NaN  Yes    11142  11151.0   \n",
       "1           2      MOSF w/Sepsis            NaN   No    11799  11844.0   \n",
       "2           3  MOSF w/Malignancy  MOSF w/Sepsis  Yes    12083  12143.0   \n",
       "3           4                ARF            NaN   No    11146  11183.0   \n",
       "4           5      MOSF w/Sepsis            NaN   No    12035  12037.0   \n",
       "\n",
       "    dthdte  lstctdte death  cardiohx  ...   meta  hema  seps  trauma  ortho  \\\n",
       "0      NaN     11382    No         0  ...     No    No    No      No     No   \n",
       "1  11844.0     11844   Yes         1  ...     No    No   Yes      No     No   \n",
       "2      NaN     12400    No         0  ...     No    No    No      No     No   \n",
       "3  11183.0     11182   Yes         0  ...     No    No    No      No     No   \n",
       "4  12037.0     12036   Yes         0  ...     No    No    No      No     No   \n",
       "\n",
       "   adld3p   urin1   race      income  ptid  \n",
       "0     0.0     NaN  white  Under $11k     5  \n",
       "1     NaN  1437.0  white  Under $11k     7  \n",
       "2     NaN   599.0  white    $25-$50k     9  \n",
       "3     NaN     NaN  white    $11-$25k    10  \n",
       "4     NaN    64.0  white  Under $11k    11  \n",
       "\n",
       "[5 rows x 63 columns]"
      ]
     },
     "execution_count": 3,
     "metadata": {},
     "output_type": "execute_result"
    }
   ],
   "source": [
    "data_df.head()"
   ]
  },
  {
   "cell_type": "code",
   "execution_count": 4,
   "metadata": {},
   "outputs": [
    {
     "data": {
      "text/html": [
       "<div>\n",
       "<style scoped>\n",
       "    .dataframe tbody tr th:only-of-type {\n",
       "        vertical-align: middle;\n",
       "    }\n",
       "\n",
       "    .dataframe tbody tr th {\n",
       "        vertical-align: top;\n",
       "    }\n",
       "\n",
       "    .dataframe thead th {\n",
       "        text-align: right;\n",
       "    }\n",
       "</style>\n",
       "<table border=\"1\" class=\"dataframe\">\n",
       "  <thead>\n",
       "    <tr style=\"text-align: right;\">\n",
       "      <th>swang1</th>\n",
       "      <th>No RHC</th>\n",
       "      <th>RHC</th>\n",
       "    </tr>\n",
       "    <tr>\n",
       "      <th>death</th>\n",
       "      <th></th>\n",
       "      <th></th>\n",
       "    </tr>\n",
       "  </thead>\n",
       "  <tbody>\n",
       "    <tr>\n",
       "      <th>No</th>\n",
       "      <td>1315</td>\n",
       "      <td>698</td>\n",
       "    </tr>\n",
       "    <tr>\n",
       "      <th>Yes</th>\n",
       "      <td>2236</td>\n",
       "      <td>1486</td>\n",
       "    </tr>\n",
       "  </tbody>\n",
       "</table>\n",
       "</div>"
      ],
      "text/plain": [
       "swang1  No RHC   RHC\n",
       "death               \n",
       "No        1315   698\n",
       "Yes       2236  1486"
      ]
     },
     "execution_count": 4,
     "metadata": {},
     "output_type": "execute_result"
    }
   ],
   "source": [
    "# 死亡率とRHCの有無のクロス集計\n",
    "pd.crosstab(data_df.death, data_df.swang1)"
   ]
  },
  {
   "cell_type": "code",
   "execution_count": 5,
   "metadata": {},
   "outputs": [
    {
     "data": {
      "text/plain": [
       "0.050721150622586864"
      ]
     },
     "execution_count": 5,
     "metadata": {},
     "output_type": "execute_result"
    }
   ],
   "source": [
    "# RHCの有無での死亡率の差を計算\n",
    "(1486 / (698 + 1486)) - (2236 / (1315 + 2236))"
   ]
  },
  {
   "cell_type": "code",
   "execution_count": 6,
   "metadata": {},
   "outputs": [],
   "source": [
    "# 用いる説明変数群、詳細はデータセットの記述を参照\n",
    "cols = [\"cat1\", \"sex\", \"race\", \"edu\", \"income\",\n",
    "        \"resp\", \"card\", \"neuro\", \"gastr\", \"renal\", \"meta\", \"hema\", \"seps\", \"trauma\", \"ortho\",\n",
    "        \"das2d3pc\", \"dnr1\", \"ca\", \"surv2md1\", \"aps1\", \"scoma1\", \"wtkilo1\", \"temp1\",\n",
    "        \"resp1\", \"hrt1\", \"pafi1\", \"paco21\", \"ph1\", \"wblc1\", \"hema1\", \"sod1\", \"pot1\", \"crea1\",\n",
    "        \"bili1\", \"alb1\", \"cardiohx\", \"chfhx\", \"dementhx\", \"psychhx\", \"chrpulhx\", \"renalhx\",\n",
    "        \"liverhx\", \"gibledhx\", \"immunhx\", \"transhx\", \"amihx\",\n",
    "        \"age\", \"meanbp1\"]\n",
    "\n",
    "# 説明変数中のカテゴリカル変数\n",
    "categorical_columns = [\"cat1\", \"sex\", \"race\", \"edu\", \"income\", \"ca\", \"dnr1\",\n",
    "                       \"resp\", \"card\", \"neuro\", \"gastr\", \"renal\", \"meta\", \"hema\", \"seps\", \"trauma\", \"ortho\"]\n",
    "\n",
    "# カテゴリカル変数のダミー化\n",
    "data_df.loc[:, \"Intercept\"] = 1\n",
    "X = data_df[cols + [\"Intercept\"]]\n",
    "dummy = pd.get_dummies(X[categorical_columns])\n",
    "X = pd.concat([X, dummy], axis=1).drop(categorical_columns, axis=1).values\n",
    "\n",
    "\n",
    "# RHC有無のダミー変数\n",
    "w1 = pd.get_dummies(data_df[\"swang1\"])[\"RHC\"].values\n",
    "\n",
    "# 目的変数\n",
    "y = pd.get_dummies(data_df[\"death\"])[\"Yes\"].values"
   ]
  },
  {
   "cell_type": "code",
   "execution_count": 7,
   "metadata": {
    "scrolled": true
   },
   "outputs": [
    {
     "name": "stdout",
     "output_type": "stream",
     "text": [
      "Warning: Maximum number of iterations has been exceeded.\n",
      "         Current function value: inf\n",
      "         Iterations: 35\n"
     ]
    },
    {
     "name": "stderr",
     "output_type": "stream",
     "text": [
      "/opt/anaconda3/lib/python3.6/site-packages/statsmodels/discrete/discrete_model.py:1724: RuntimeWarning: divide by zero encountered in log\n",
      "  return np.sum(np.log(self.cdf(q*np.dot(X,params))))\n",
      "/opt/anaconda3/lib/python3.6/site-packages/statsmodels/base/model.py:508: ConvergenceWarning: Maximum Likelihood optimization failed to converge. Check mle_retvals\n",
      "  \"Check mle_retvals\", ConvergenceWarning)\n"
     ]
    }
   ],
   "source": [
    "# StatsModelsのLogitにより傾向スコアを推定\n",
    "glm = sm.Logit(w1, X)\n",
    "result = glm.fit()\n",
    "ps1 = result.predict(X)"
   ]
  },
  {
   "cell_type": "code",
   "execution_count": 8,
   "metadata": {},
   "outputs": [
    {
     "data": {
      "text/plain": [
       "0.7963133740379587"
      ]
     },
     "execution_count": 8,
     "metadata": {},
     "output_type": "execute_result"
    }
   ],
   "source": [
    "# c統計量としてAUCをを計算\n",
    "roc_auc_score(w1, ps1)"
   ]
  },
  {
   "cell_type": "code",
   "execution_count": 9,
   "metadata": {},
   "outputs": [
    {
     "data": {
      "text/plain": [
       "0.059075127898833735"
      ]
     },
     "execution_count": 9,
     "metadata": {},
     "output_type": "execute_result"
    }
   ],
   "source": [
    "# IPWによりATEを推定\n",
    "ipwe1 = np.sum((w1 * y) / ps1) / np.sum(w1 / ps1)\n",
    "ipwe0 = np.sum(((1 - w1) * y) / (1.0 - ps1)) / np.sum((1 - w1) / (1.0 - ps1))\n",
    "ATE = ipwe1 - ipwe0\n",
    "ATE"
   ]
  },
  {
   "cell_type": "code",
   "execution_count": null,
   "metadata": {},
   "outputs": [],
   "source": []
  },
  {
   "cell_type": "markdown",
   "metadata": {},
   "source": [
    "### CM Data"
   ]
  },
  {
   "cell_type": "code",
   "execution_count": 10,
   "metadata": {},
   "outputs": [
    {
     "data": {
      "text/html": [
       "<div>\n",
       "<style scoped>\n",
       "    .dataframe tbody tr th:only-of-type {\n",
       "        vertical-align: middle;\n",
       "    }\n",
       "\n",
       "    .dataframe tbody tr th {\n",
       "        vertical-align: top;\n",
       "    }\n",
       "\n",
       "    .dataframe thead th {\n",
       "        text-align: right;\n",
       "    }\n",
       "</style>\n",
       "<table border=\"1\" class=\"dataframe\">\n",
       "  <thead>\n",
       "    <tr style=\"text-align: right;\">\n",
       "      <th></th>\n",
       "      <th>cm_dummy</th>\n",
       "      <th>gamedummy</th>\n",
       "      <th>area_kanto</th>\n",
       "      <th>area_keihan</th>\n",
       "      <th>area_tokai</th>\n",
       "      <th>area_keihanshin</th>\n",
       "      <th>age</th>\n",
       "      <th>sex</th>\n",
       "      <th>marry_dummy</th>\n",
       "      <th>job_dummy1</th>\n",
       "      <th>...</th>\n",
       "      <th>T</th>\n",
       "      <th>F1</th>\n",
       "      <th>F2</th>\n",
       "      <th>F3</th>\n",
       "      <th>M1</th>\n",
       "      <th>M2</th>\n",
       "      <th>M3</th>\n",
       "      <th>TVwatch_day</th>\n",
       "      <th>gamesecond</th>\n",
       "      <th>gamecount</th>\n",
       "    </tr>\n",
       "  </thead>\n",
       "  <tbody>\n",
       "    <tr>\n",
       "      <th>0</th>\n",
       "      <td>0</td>\n",
       "      <td>0</td>\n",
       "      <td>0</td>\n",
       "      <td>0</td>\n",
       "      <td>0</td>\n",
       "      <td>1</td>\n",
       "      <td>44.5</td>\n",
       "      <td>1</td>\n",
       "      <td>1</td>\n",
       "      <td>1</td>\n",
       "      <td>...</td>\n",
       "      <td>0</td>\n",
       "      <td>0</td>\n",
       "      <td>0</td>\n",
       "      <td>0</td>\n",
       "      <td>0</td>\n",
       "      <td>1</td>\n",
       "      <td>0</td>\n",
       "      <td>33.427600</td>\n",
       "      <td>0</td>\n",
       "      <td>0</td>\n",
       "    </tr>\n",
       "    <tr>\n",
       "      <th>1</th>\n",
       "      <td>0</td>\n",
       "      <td>0</td>\n",
       "      <td>0</td>\n",
       "      <td>1</td>\n",
       "      <td>0</td>\n",
       "      <td>0</td>\n",
       "      <td>34.5</td>\n",
       "      <td>1</td>\n",
       "      <td>1</td>\n",
       "      <td>1</td>\n",
       "      <td>...</td>\n",
       "      <td>0</td>\n",
       "      <td>0</td>\n",
       "      <td>0</td>\n",
       "      <td>0</td>\n",
       "      <td>0</td>\n",
       "      <td>1</td>\n",
       "      <td>0</td>\n",
       "      <td>31.542862</td>\n",
       "      <td>0</td>\n",
       "      <td>0</td>\n",
       "    </tr>\n",
       "    <tr>\n",
       "      <th>2</th>\n",
       "      <td>0</td>\n",
       "      <td>0</td>\n",
       "      <td>0</td>\n",
       "      <td>1</td>\n",
       "      <td>0</td>\n",
       "      <td>0</td>\n",
       "      <td>24.5</td>\n",
       "      <td>1</td>\n",
       "      <td>0</td>\n",
       "      <td>0</td>\n",
       "      <td>...</td>\n",
       "      <td>0</td>\n",
       "      <td>0</td>\n",
       "      <td>0</td>\n",
       "      <td>0</td>\n",
       "      <td>1</td>\n",
       "      <td>0</td>\n",
       "      <td>0</td>\n",
       "      <td>37.825805</td>\n",
       "      <td>0</td>\n",
       "      <td>0</td>\n",
       "    </tr>\n",
       "    <tr>\n",
       "      <th>3</th>\n",
       "      <td>0</td>\n",
       "      <td>0</td>\n",
       "      <td>0</td>\n",
       "      <td>1</td>\n",
       "      <td>0</td>\n",
       "      <td>0</td>\n",
       "      <td>44.5</td>\n",
       "      <td>1</td>\n",
       "      <td>1</td>\n",
       "      <td>1</td>\n",
       "      <td>...</td>\n",
       "      <td>0</td>\n",
       "      <td>0</td>\n",
       "      <td>0</td>\n",
       "      <td>0</td>\n",
       "      <td>0</td>\n",
       "      <td>1</td>\n",
       "      <td>0</td>\n",
       "      <td>36.345911</td>\n",
       "      <td>0</td>\n",
       "      <td>0</td>\n",
       "    </tr>\n",
       "    <tr>\n",
       "      <th>4</th>\n",
       "      <td>0</td>\n",
       "      <td>0</td>\n",
       "      <td>0</td>\n",
       "      <td>1</td>\n",
       "      <td>0</td>\n",
       "      <td>0</td>\n",
       "      <td>34.5</td>\n",
       "      <td>1</td>\n",
       "      <td>1</td>\n",
       "      <td>1</td>\n",
       "      <td>...</td>\n",
       "      <td>0</td>\n",
       "      <td>0</td>\n",
       "      <td>0</td>\n",
       "      <td>0</td>\n",
       "      <td>1</td>\n",
       "      <td>0</td>\n",
       "      <td>0</td>\n",
       "      <td>49.344942</td>\n",
       "      <td>0</td>\n",
       "      <td>0</td>\n",
       "    </tr>\n",
       "  </tbody>\n",
       "</table>\n",
       "<p>5 rows × 35 columns</p>\n",
       "</div>"
      ],
      "text/plain": [
       "   cm_dummy  gamedummy  area_kanto  area_keihan  area_tokai  area_keihanshin  \\\n",
       "0         0          0           0            0           0                1   \n",
       "1         0          0           0            1           0                0   \n",
       "2         0          0           0            1           0                0   \n",
       "3         0          0           0            1           0                0   \n",
       "4         0          0           0            1           0                0   \n",
       "\n",
       "    age  sex  marry_dummy  job_dummy1    ...      T  F1  F2  F3  M1  M2  M3  \\\n",
       "0  44.5    1            1           1    ...      0   0   0   0   0   1   0   \n",
       "1  34.5    1            1           1    ...      0   0   0   0   0   1   0   \n",
       "2  24.5    1            0           0    ...      0   0   0   0   1   0   0   \n",
       "3  44.5    1            1           1    ...      0   0   0   0   0   1   0   \n",
       "4  34.5    1            1           1    ...      0   0   0   0   1   0   0   \n",
       "\n",
       "   TVwatch_day  gamesecond  gamecount  \n",
       "0    33.427600           0          0  \n",
       "1    31.542862           0          0  \n",
       "2    37.825805           0          0  \n",
       "3    36.345911           0          0  \n",
       "4    49.344942           0          0  \n",
       "\n",
       "[5 rows x 35 columns]"
      ]
     },
     "execution_count": 10,
     "metadata": {},
     "output_type": "execute_result"
    }
   ],
   "source": [
    "# データの読み込み\n",
    "data_df = pd.read_csv('https://github.com/iwanami-datascience/vol3/raw/master/kato%26hoshino/q_data_x.csv')\n",
    "data_df.head()"
   ]
  },
  {
   "cell_type": "code",
   "execution_count": 11,
   "metadata": {},
   "outputs": [
    {
     "data": {
      "text/plain": [
       "0.002202143595586223"
      ]
     },
     "execution_count": 11,
     "metadata": {},
     "output_type": "execute_result"
    }
   ],
   "source": [
    "# CM視聴有無でのアプリ利用率の差を計算\n",
    "data_df[data_df.cm_dummy == 1].gamedummy.mean() - data_df[data_df.cm_dummy == 0].gamedummy.mean()"
   ]
  },
  {
   "cell_type": "code",
   "execution_count": 12,
   "metadata": {},
   "outputs": [
    {
     "data": {
      "text/plain": [
       "-1.4845493913116865"
      ]
     },
     "execution_count": 12,
     "metadata": {},
     "output_type": "execute_result"
    }
   ],
   "source": [
    "# CM視聴有無でのアプリ利用回数の差を計算\n",
    "data_df[data_df.cm_dummy == 1].gamecount.mean() - data_df[data_df.cm_dummy == 0].gamecount.mean()"
   ]
  },
  {
   "cell_type": "code",
   "execution_count": 13,
   "metadata": {},
   "outputs": [
    {
     "data": {
      "text/plain": [
       "-629.6405765396544"
      ]
     },
     "execution_count": 13,
     "metadata": {},
     "output_type": "execute_result"
    }
   ],
   "source": [
    "# CM視聴有無でのアプリ利用時間の差を計算\n",
    "data_df[data_df.cm_dummy == 1].gamesecond.mean() - data_df[data_df.cm_dummy == 0].gamesecond.mean()"
   ]
  },
  {
   "cell_type": "code",
   "execution_count": 14,
   "metadata": {},
   "outputs": [],
   "source": [
    "# 説明変数\n",
    "cols = [\"age\", \"sex\", \"TVwatch_day\", \"marry_dummy\", \"child_dummy\", \"inc\", \"pmoney\",\n",
    "        \"area_kanto\", \"area_tokai\", \"area_keihanshin\",\n",
    "        \"job_dummy1\", \"job_dummy2\", \"job_dummy3\", \"job_dummy4\", \"job_dummy5\", \"job_dummy6\",\n",
    "        \"fam_str_dummy1\", \"fam_str_dummy2\", \"fam_str_dummy3\", \"fam_str_dummy4\"]\n",
    "data_df[\"intercept\"] = 1\n",
    "X = data_df[cols + [\"intercept\"]].values\n",
    "\n",
    "# CM視聴有無ダミー\n",
    "w2 = data_df.cm_dummy.values\n",
    "\n",
    "# 目的変数群（1:アプリ利用ダミー, 2:アプリ利用回数、3:アプリ利用時間）\n",
    "y1 = data_df.gamedummy.values\n",
    "y2 = data_df.gamecount.values\n",
    "y3 = data_df.gamesecond.values"
   ]
  },
  {
   "cell_type": "code",
   "execution_count": 15,
   "metadata": {
    "scrolled": true
   },
   "outputs": [
    {
     "name": "stdout",
     "output_type": "stream",
     "text": [
      "Optimization terminated successfully.\n",
      "         Current function value: 0.542152\n",
      "         Iterations 6\n"
     ]
    }
   ],
   "source": [
    "# StatsModelsのLogitにより傾向スコアを推定\n",
    "glm = sm.Logit(w2, X)\n",
    "result = glm.fit()\n",
    "ps2 = result.predict(X)"
   ]
  },
  {
   "cell_type": "code",
   "execution_count": 16,
   "metadata": {},
   "outputs": [
    {
     "data": {
      "text/plain": [
       "0.7917012811992321"
      ]
     },
     "execution_count": 16,
     "metadata": {},
     "output_type": "execute_result"
    }
   ],
   "source": [
    "# c統計量としてAUCをを計算\n",
    "roc_auc_score(w2, ps2)"
   ]
  },
  {
   "cell_type": "code",
   "execution_count": 17,
   "metadata": {},
   "outputs": [
    {
     "data": {
      "text/plain": [
       "0.03231177330512102"
      ]
     },
     "execution_count": 17,
     "metadata": {},
     "output_type": "execute_result"
    }
   ],
   "source": [
    "# IPWによりアプリ利用ダミーへのATEを推定\n",
    "ipwe11 = np.sum((w2 * y1) / ps2) / np.sum(w2 / ps2)  # Treated\n",
    "ipwe10 = np.sum(((1 - w2) * y1) / (1.0 - ps2)) / np.sum((1 - w2) / (1.0 - ps2))  # Control\n",
    "ATE1 = ipwe11 - ipwe10\n",
    "ATE1"
   ]
  },
  {
   "cell_type": "code",
   "execution_count": 18,
   "metadata": {},
   "outputs": [
    {
     "data": {
      "text/plain": [
       "5.3490295664746235"
      ]
     },
     "execution_count": 18,
     "metadata": {},
     "output_type": "execute_result"
    }
   ],
   "source": [
    "# IPWによりアプリ利用回数へのATEを推定\n",
    "ipwe21 = np.sum((w2 * y2) / ps2) / np.sum(w2 / ps2)  # Treated\n",
    "ipwe20 = np.sum(((1 - w2) * y2) / (1.0 - ps2)) / np.sum((1 - w2) / (1.0 - ps2))  # Control\n",
    "ATE2 = ipwe21 - ipwe20\n",
    "ATE2"
   ]
  },
  {
   "cell_type": "code",
   "execution_count": 19,
   "metadata": {},
   "outputs": [
    {
     "data": {
      "text/plain": [
       "1513.69969078252"
      ]
     },
     "execution_count": 19,
     "metadata": {},
     "output_type": "execute_result"
    }
   ],
   "source": [
    "# IPWによりアプリ利用時間へのATEを推定\n",
    "ipwe31 = np.sum((w2 * y3) / ps2) / np.sum(w2 / ps2)\n",
    "ipwe30 = np.sum(((1 - w2) * y3) / (1 - ps2)) / np.sum((1 - w2) / (1 - ps2))\n",
    "ATE3 = ipwe31 - ipwe30\n",
    "ATE3"
   ]
  },
  {
   "cell_type": "code",
   "execution_count": null,
   "metadata": {},
   "outputs": [],
   "source": []
  },
  {
   "cell_type": "code",
   "execution_count": null,
   "metadata": {},
   "outputs": [],
   "source": []
  }
 ],
 "metadata": {
  "kernelspec": {
   "display_name": "Python 3",
   "language": "python",
   "name": "python3"
  },
  "language_info": {
   "codemirror_mode": {
    "name": "ipython",
    "version": 3
   },
   "file_extension": ".py",
   "mimetype": "text/x-python",
   "name": "python",
   "nbconvert_exporter": "python",
   "pygments_lexer": "ipython3",
   "version": "3.6.6"
  }
 },
 "nbformat": 4,
 "nbformat_minor": 2
}
