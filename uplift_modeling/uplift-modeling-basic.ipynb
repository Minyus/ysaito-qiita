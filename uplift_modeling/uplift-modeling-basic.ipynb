{
 "cells": [
  {
   "cell_type": "markdown",
   "metadata": {},
   "source": [
    "# Qiita ~Uplift Modelingで介入効果を最大化する~¶"
   ]
  },
  {
   "cell_type": "code",
   "execution_count": 3,
   "metadata": {},
   "outputs": [],
   "source": [
    "import numpy as np\n",
    "import pandas as pd\n",
    "import random\n",
    "import sklearn\n",
    "import statsmodels.api as sm\n",
    "import sys\n",
    "sys.path.append(\"/home/yuta_saito/notebook/qiita/uplift-modeling/uplift_tools/\")\n",
    "from metrics import *\n",
    "\n",
    "from operator import itemgetter\n",
    "from pandas import DataFrame, Series\n",
    "from plotly.offline import iplot, plot, init_notebook_mode\n",
    "from plotly.graph_objs import Histogram, Box, Scatter, Figure, Layout, Bar\n",
    "\n",
    "from sklearn.cross_validation import train_test_split, cross_val_score, StratifiedKFold\n",
    "from sklearn.decomposition import PCA\n",
    "from sklearn.ensemble import RandomForestRegressor, GradientBoostingRegressor\n",
    "from sklearn.feature_selection import SelectFromModel, SelectKBest\n",
    "from sklearn.grid_search import GridSearchCV, RandomizedSearchCV\n",
    "from sklearn.kernel_ridge import KernelRidge\n",
    "from sklearn.linear_model import LogisticRegression, LinearRegression, ElasticNet, Ridge\n",
    "from sklearn.metrics import mean_absolute_error, mean_squared_error, r2_score, roc_curve, auc, confusion_matrix, precision_recall_curve\n",
    "from sklearn.model_selection import KFold, TimeSeriesSplit\n",
    "from sklearn.preprocessing import StandardScaler, RobustScaler, Normalizer\n",
    "from sklearn.pipeline import Pipeline\n",
    "from sklearn.svm import SVR, LinearSVR"
   ]
  },
  {
   "cell_type": "markdown",
   "metadata": {},
   "source": [
    "## データの前処理"
   ]
  },
  {
   "cell_type": "code",
   "execution_count": 4,
   "metadata": {},
   "outputs": [],
   "source": [
    "### データの読み込み\n",
    "csv_file = \"http://www.minethatdata.com/Kevin_Hillstrom_MineThatData_E-MailAnalytics_DataMiningChallenge_2008.03.20.csv\"\n",
    "data_df = pd.read_csv(csv_file)\n",
    "\n",
    "### メールを送らなかった人たちのデータを削除\n",
    "data_df = data_df.loc[data_df[\"segment\"] != \"No E-Mail\"].reset_index(drop=True)\n",
    "#data_df.head()"
   ]
  },
  {
   "cell_type": "code",
   "execution_count": 5,
   "metadata": {},
   "outputs": [],
   "source": [
    "### カテゴリカル変数をダミー化\n",
    "categorical_columns = [\"zip_code\", \"channel\"]\n",
    "dummies = pd.get_dummies(data_df[categorical_columns],drop_first=True)\n",
    "data_df = pd.concat([data_df.drop(categorical_columns, axis=1), dummies],axis=1)"
   ]
  },
  {
   "cell_type": "code",
   "execution_count": 6,
   "metadata": {},
   "outputs": [],
   "source": [
    "### 説明変数を分けておく\n",
    "X = data_df.drop([\"segment\",\"visit\",\"conversion\",\"spend\",\"history_segment\"],axis=1)"
   ]
  },
  {
   "cell_type": "code",
   "execution_count": 7,
   "metadata": {},
   "outputs": [],
   "source": [
    "### 男性向けメールをtreatment, 女性向けメールをcontrolとする\n",
    "treat = (data_df.segment == \"Mens E-Mail\").tolist()\n",
    "cv = (data_df.visit == 1).tolist()"
   ]
  },
  {
   "cell_type": "code",
   "execution_count": 8,
   "metadata": {},
   "outputs": [],
   "source": [
    "### train, test半分ずつに分ける\n",
    "train_cv, test_cv, train_treat, test_treat, X_train, X_test = train_test_split(cv,treat,X,test_size=0.5,random_state=2)"
   ]
  },
  {
   "cell_type": "code",
   "execution_count": 9,
   "metadata": {},
   "outputs": [],
   "source": [
    "### indexをリセット\n",
    "X_train = X_train.reset_index(drop=True)\n",
    "X_test = X_test.reset_index(drop=True)"
   ]
  },
  {
   "cell_type": "markdown",
   "metadata": {},
   "source": [
    "### Separate Model Approach"
   ]
  },
  {
   "cell_type": "code",
   "execution_count": 10,
   "metadata": {},
   "outputs": [
    {
     "data": {
      "text/plain": [
       "LogisticRegression(C=0.1, class_weight=None, dual=False, fit_intercept=True,\n",
       "          intercept_scaling=1, max_iter=100, multi_class='ovr', n_jobs=1,\n",
       "          penalty='l2', random_state=None, solver='liblinear', tol=0.0001,\n",
       "          verbose=0, warm_start=False)"
      ]
     },
     "execution_count": 10,
     "metadata": {},
     "output_type": "execute_result"
    }
   ],
   "source": [
    "## 学習用に用いるデータを生成\n",
    "num = len(train_cv)\n",
    "treat_cv = [train_cv[i] for i in range(num) if train_treat[i] == True]\n",
    "control_cv = [train_cv[i] for i in range(num) if train_treat[i] == False]\n",
    "treat_X = DataFrame([X_train.loc[i] for i in range(num) if train_treat[i] == True])\n",
    "control_X = DataFrame([X_train.loc[i] for i in range(num) if train_treat[i] == False])\n",
    "\n",
    "## 介入群(treat)と統制群(control)それぞれについてロジスティック回帰モデルで学習\n",
    "lr_treat = LogisticRegression(C=0.1)\n",
    "lr_treat.fit(treat_X, treat_cv)\n",
    "lr_control = LogisticRegression(C=0.1)\n",
    "lr_control.fit(control_X, control_cv)"
   ]
  },
  {
   "cell_type": "code",
   "execution_count": 11,
   "metadata": {},
   "outputs": [],
   "source": [
    "### uplift-scoreの算出\n",
    "## 介入を受ける場合のサイト訪問確率\n",
    "treat_proba = lr_treat.predict_proba(X_test)\n",
    "treat_proba = treat_proba[:, 1]\n",
    "\n",
    "## 介入を受けない場合のサイト訪問確率\n",
    "control_proba = lr_control.predict_proba(X_test)\n",
    "control_proba = control_proba[:, 1]\n",
    "\n",
    "## 今回は、(介入を受ける場合のサイト訪問確率) / (介入を受けない場合のサイト訪問確率)をuplift_scoreとする。\n",
    "uplift_score = treat_proba / control_proba"
   ]
  },
  {
   "cell_type": "markdown",
   "metadata": {},
   "source": [
    "### 結果を描画"
   ]
  },
  {
   "cell_type": "code",
   "execution_count": 1,
   "metadata": {},
   "outputs": [],
   "source": [
    "#uplift_bar(test_cv, test_treat, uplift_score)"
   ]
  },
  {
   "cell_type": "code",
   "execution_count": 12,
   "metadata": {},
   "outputs": [],
   "source": [
    "df = uplift_frame_clf(outcome=test_cv, treat=test_treat, score=uplift_score)"
   ]
  },
  {
   "cell_type": "code",
   "execution_count": 13,
   "metadata": {},
   "outputs": [],
   "source": [
    "#uplift_curve(df)"
   ]
  },
  {
   "cell_type": "code",
   "execution_count": null,
   "metadata": {},
   "outputs": [],
   "source": []
  },
  {
   "cell_type": "markdown",
   "metadata": {},
   "source": [
    "### Cross Variable Transmation"
   ]
  },
  {
   "cell_type": "code",
   "execution_count": 14,
   "metadata": {},
   "outputs": [],
   "source": [
    "### データの読み込み\n",
    "data_df = pd.read_csv(csv_file)\n",
    "\n",
    "### メールを送らなかった人たちのデータを削除\n",
    "data_df = data_df.loc[data_df[\"segment\"] != \"No E-Mail\"].reset_index(drop=True)\n",
    "#data_df.head()"
   ]
  },
  {
   "cell_type": "code",
   "execution_count": 15,
   "metadata": {},
   "outputs": [],
   "source": [
    "### Zラベルの作成\n",
    "Z_df = data_df[[\"segment\", \"visit\"]].drop_duplicates()\n",
    "Z_df[\"Z\"] = np.array([1,0,0,1])\n",
    "data_df = pd.merge(data_df,Z_df,on=[\"segment\",\"visit\"])"
   ]
  },
  {
   "cell_type": "code",
   "execution_count": 16,
   "metadata": {},
   "outputs": [],
   "source": [
    "### カテゴリカル変数をダミー化\n",
    "categorical_columns = [\"zip_code\", \"channel\"]\n",
    "dummies = pd.get_dummies(data_df[categorical_columns],drop_first=True)\n",
    "data_df = pd.concat([data_df.drop(categorical_columns, axis=1), dummies],axis=1)"
   ]
  },
  {
   "cell_type": "code",
   "execution_count": 17,
   "metadata": {},
   "outputs": [],
   "source": [
    "### 説明変数を分けておく\n",
    "X = data_df.drop([\"segment\",\"visit\",\"conversion\",\"spend\",\"history_segment\",\"Z\"],axis=1)"
   ]
  },
  {
   "cell_type": "code",
   "execution_count": 18,
   "metadata": {},
   "outputs": [],
   "source": [
    "### 男性向けメールをtreatment, 女性向けメールをcontrolとする\n",
    "treat = (data_df.segment == \"Mens E-Mail\").tolist()\n",
    "cv = (data_df.visit == 1).tolist()\n",
    "z = (data_df.Z == 1).tolist()"
   ]
  },
  {
   "cell_type": "code",
   "execution_count": 19,
   "metadata": {},
   "outputs": [
    {
     "data": {
      "text/plain": [
       "0.49906310020143346"
      ]
     },
     "execution_count": 19,
     "metadata": {},
     "output_type": "execute_result"
    }
   ],
   "source": [
    "### P(G=T) = P(G=C) = 1/2が成り立っているかを簡単に確認\n",
    "data_df[data_df.segment == \"Mens E-Mail\"].shape[0] / data_df.shape[0]"
   ]
  },
  {
   "cell_type": "code",
   "execution_count": 20,
   "metadata": {},
   "outputs": [],
   "source": [
    "### train, test半分ずつに分ける\n",
    "train_cv, test_cv, train_treat, test_treat, X_train, X_test, z_train, z_test = train_test_split(cv,treat,X,z,test_size=0.5,random_state=2)"
   ]
  },
  {
   "cell_type": "code",
   "execution_count": 21,
   "metadata": {},
   "outputs": [],
   "source": [
    "### indexをリセット\n",
    "X_train = X_train.reset_index(drop=True)\n",
    "X_test = X_test.reset_index(drop=True)"
   ]
  },
  {
   "cell_type": "code",
   "execution_count": 22,
   "metadata": {},
   "outputs": [
    {
     "data": {
      "text/plain": [
       "LogisticRegression(C=10, class_weight=None, dual=False, fit_intercept=True,\n",
       "          intercept_scaling=1, max_iter=100, multi_class='ovr', n_jobs=1,\n",
       "          penalty='l2', random_state=None, solver='liblinear', tol=0.0001,\n",
       "          verbose=0, warm_start=False)"
      ]
     },
     "execution_count": 22,
     "metadata": {},
     "output_type": "execute_result"
    }
   ],
   "source": [
    "### Class Variable Transformation\n",
    "lr_z = LogisticRegression(C=10)\n",
    "lr_z.fit(X_train,z_train)"
   ]
  },
  {
   "cell_type": "code",
   "execution_count": 23,
   "metadata": {},
   "outputs": [],
   "source": [
    "### z-scoreの算出(z-score = 2P(Z=1|X) - 1)\n",
    "z_score = 2*lr_z.predict_proba(X_test)-1\n",
    "z_score = (z_score[:,1]).tolist()"
   ]
  },
  {
   "cell_type": "markdown",
   "metadata": {},
   "source": [
    "### 結果の描画"
   ]
  },
  {
   "cell_type": "code",
   "execution_count": 24,
   "metadata": {},
   "outputs": [],
   "source": [
    "#uplift_bar(test_cv, test_treat, z_score)"
   ]
  },
  {
   "cell_type": "code",
   "execution_count": 25,
   "metadata": {},
   "outputs": [],
   "source": [
    "df_z = uplift_frame_clf(outcome=test_cv, treat=test_treat, score=z_score)"
   ]
  },
  {
   "cell_type": "code",
   "execution_count": 26,
   "metadata": {},
   "outputs": [],
   "source": [
    "#uplift_curve(df_z, \"Z Score\")"
   ]
  },
  {
   "cell_type": "code",
   "execution_count": null,
   "metadata": {},
   "outputs": [],
   "source": []
  },
  {
   "cell_type": "code",
   "execution_count": 27,
   "metadata": {},
   "outputs": [
    {
     "name": "stdout",
     "output_type": "stream",
     "text": [
      "recency / -0.0057\n",
      "history / 0.0\n",
      "mens / 0.1186\n",
      "womens / 0.0022\n",
      "newbie / -0.0352\n",
      "zip_code_Surburban / -0.0315\n",
      "zip_code_Urban / -0.0064\n",
      "channel_Phone / 0.0086\n",
      "channel_Web / 0.0045\n"
     ]
    }
   ],
   "source": [
    "### z-scoreを算出したロジスティック回帰モデルの係数を表示\n",
    "for feature, coef in zip(X_test.columns, lr_z.coef_[0]):\n",
    "    print(f\"{feature} / {round(coef, 4)}\")"
   ]
  },
  {
   "cell_type": "code",
   "execution_count": null,
   "metadata": {},
   "outputs": [],
   "source": []
  }
 ],
 "metadata": {
  "kernelspec": {
   "display_name": "Python 3",
   "language": "python",
   "name": "python3"
  },
  "language_info": {
   "codemirror_mode": {
    "name": "ipython",
    "version": 3
   },
   "file_extension": ".py",
   "mimetype": "text/x-python",
   "name": "python",
   "nbconvert_exporter": "python",
   "pygments_lexer": "ipython3",
   "version": "3.6.4"
  }
 },
 "nbformat": 4,
 "nbformat_minor": 2
}
