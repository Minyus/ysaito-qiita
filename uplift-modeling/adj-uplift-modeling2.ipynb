{
 "cells": [
  {
   "cell_type": "markdown",
   "metadata": {},
   "source": [
    "# Qiita ~ 傾向スコアを用いて観察データからUpliftをモデリングする（おまけ）~"
   ]
  },
  {
   "cell_type": "code",
   "execution_count": 2,
   "metadata": {},
   "outputs": [],
   "source": [
    "import numpy as np\n",
    "import pandas as pd\n",
    "import sklearn\n",
    "import statsmodels.api as sm\n",
    "import random\n",
    "import sys\n",
    "sys.path.append(\"/home/yuta_saito/notebook/qiita/uplift-modeling/uplift_tools/\")\n",
    "from metrics import *\n",
    "\n",
    "from operator import itemgetter\n",
    "from pandas import DataFrame, Series\n",
    "from plotly.offline import iplot, plot, init_notebook_mode\n",
    "from plotly.graph_objs import Histogram, Box, Scatter, Figure, Layout, Bar\n",
    "\n",
    "from sklearn.cross_validation import train_test_split, cross_val_score, StratifiedKFold\n",
    "from sklearn.decomposition import PCA\n",
    "from sklearn.ensemble import RandomForestRegressor, GradientBoostingRegressor\n",
    "from sklearn.feature_selection import SelectFromModel, SelectKBest\n",
    "from sklearn.kernel_ridge import KernelRidge\n",
    "from sklearn.linear_model import LogisticRegression, LinearRegression, ElasticNet, Ridge\n",
    "from sklearn.metrics import mean_absolute_error, mean_squared_error, r2_score, roc_curve, auc, confusion_matrix, precision_recall_curve\n",
    "from sklearn.model_selection import KFold, TimeSeriesSplit, GridSearchCV, RandomizedSearchCV\n",
    "from sklearn.preprocessing import StandardScaler, RobustScaler, Normalizer\n",
    "from sklearn.pipeline import Pipeline\n",
    "from sklearn.svm import SVR, LinearSVR"
   ]
  },
  {
   "cell_type": "code",
   "execution_count": null,
   "metadata": {},
   "outputs": [],
   "source": []
  },
  {
   "cell_type": "markdown",
   "metadata": {},
   "source": [
    "## Cross Variable Transmation"
   ]
  },
  {
   "cell_type": "code",
   "execution_count": 3,
   "metadata": {},
   "outputs": [],
   "source": [
    "### データの読み込み\n",
    "data_df = pd.read_csv('https://github.com/iwanami-datascience/vol3/raw/master/kato%26hoshino/q_data_x.csv')\n",
    "#data_df.head()"
   ]
  },
  {
   "cell_type": "code",
   "execution_count": 4,
   "metadata": {},
   "outputs": [],
   "source": [
    "### 説明変数\n",
    "cols = [\"child_dummy\", \"area_kanto\", \"area_tokai\", \"area_keihanshin\", \n",
    "        \"T\", \"F1\", \"F2\", \"F3\", \"M1\", \"M2\"]\n",
    "\n",
    "X = data_df[cols].copy()"
   ]
  },
  {
   "cell_type": "code",
   "execution_count": 5,
   "metadata": {},
   "outputs": [],
   "source": [
    "### Zラベルの作成\n",
    "Z_df = data_df[[\"cm_dummy\", \"gamedummy\"]].drop_duplicates()\n",
    "Z_df[\"Z\"] = np.array([1,0,0,1])\n",
    "data_df = pd.merge(data_df,Z_df,on=[\"cm_dummy\", \"gamedummy\"])"
   ]
  },
  {
   "cell_type": "code",
   "execution_count": 6,
   "metadata": {},
   "outputs": [],
   "source": [
    "### CMありをtreatment, CMなしをcontrolとする\n",
    "treat = (data_df.cm_dummy == 1).tolist()\n",
    "cv = (data_df.gamedummy == 1).tolist()\n",
    "z = (data_df.Z == 1).tolist()"
   ]
  },
  {
   "cell_type": "code",
   "execution_count": 7,
   "metadata": {},
   "outputs": [],
   "source": [
    "### train, test半分ずつに分ける\n",
    "train_cv, test_cv, train_treat, test_treat, X_train, X_test, z_train, z_test = train_test_split(cv,treat,X,z,test_size=0.5,random_state=2)"
   ]
  },
  {
   "cell_type": "code",
   "execution_count": 8,
   "metadata": {},
   "outputs": [],
   "source": [
    "### indexをリセット\n",
    "X_train = X_train.reset_index(drop=True)\n",
    "X_test = X_test.reset_index(drop=True)"
   ]
  },
  {
   "cell_type": "code",
   "execution_count": 9,
   "metadata": {},
   "outputs": [
    {
     "data": {
      "text/plain": [
       "LogisticRegression(C=0.01, class_weight=None, dual=False, fit_intercept=True,\n",
       "          intercept_scaling=1, max_iter=100, multi_class='ovr', n_jobs=1,\n",
       "          penalty='l2', random_state=None, solver='liblinear', tol=0.0001,\n",
       "          verbose=0, warm_start=False)"
      ]
     },
     "execution_count": 9,
     "metadata": {},
     "output_type": "execute_result"
    }
   ],
   "source": [
    "### Z=1となる確率を予測するロジスティック回帰モデル構築\n",
    "lr_z = LogisticRegression(C=0.01)\n",
    "lr_z.fit(X_train,z_train)"
   ]
  },
  {
   "cell_type": "code",
   "execution_count": 10,
   "metadata": {},
   "outputs": [],
   "source": [
    "### z-scoreの算出(z-score = 2P(Z=1|X) - 1)\n",
    "z_score = 2*lr_z.predict_proba(X_test)-1\n",
    "z_score = (z_score[:,1]).tolist()"
   ]
  },
  {
   "cell_type": "code",
   "execution_count": 11,
   "metadata": {},
   "outputs": [],
   "source": [
    "z_df = uplift_frame_clf(test_cv, test_treat, z_score)"
   ]
  },
  {
   "cell_type": "code",
   "execution_count": 12,
   "metadata": {
    "scrolled": true
   },
   "outputs": [],
   "source": [
    "#uplift_curve(z_df, \"Z Score\")"
   ]
  },
  {
   "cell_type": "code",
   "execution_count": 13,
   "metadata": {},
   "outputs": [
    {
     "name": "stdout",
     "output_type": "stream",
     "text": [
      "child_dummy / 0.0239\n",
      "area_kanto / -0.3468\n",
      "area_tokai / 0.2823\n",
      "area_keihanshin / 0.8965\n",
      "T / 0.0027\n",
      "F1 / 0.1595\n",
      "F2 / -0.2699\n",
      "F3 / -0.0892\n",
      "M1 / 0.1931\n",
      "M2 / 0.1633\n"
     ]
    }
   ],
   "source": [
    "### z-scoreを算出したロジスティック回帰モデルの係数を表示\n",
    "for feature, coef in zip(X_test.columns, lr_z.coef_[0]):\n",
    "    print(f\"{feature} / {round(coef, 4)}\")"
   ]
  },
  {
   "cell_type": "code",
   "execution_count": null,
   "metadata": {},
   "outputs": [],
   "source": []
  },
  {
   "cell_type": "markdown",
   "metadata": {},
   "source": [
    "### Adjust using Propensity Score"
   ]
  },
  {
   "cell_type": "code",
   "execution_count": 14,
   "metadata": {},
   "outputs": [],
   "source": [
    "### データの読み込み\n",
    "data_df = pd.read_csv('https://github.com/iwanami-datascience/vol3/raw/master/kato%26hoshino/q_data_x.csv')\n",
    "#data_df.head()"
   ]
  },
  {
   "cell_type": "code",
   "execution_count": 15,
   "metadata": {},
   "outputs": [],
   "source": [
    "###傾向スコアを求める\n",
    "## 説明変数\n",
    "cols_ = [\"age\", \"sex\", \"TVwatch_day\", \"marry_dummy\", \"child_dummy\", \"inc\", \"pmoney\", \n",
    "         \"area_kanto\", \"area_tokai\",\"area_keihanshin\", \n",
    "         \"job_dummy1\", \"job_dummy2\", \"job_dummy3\", \"job_dummy4\", \"job_dummy5\", \"job_dummy6\",\n",
    "         \"fam_str_dummy1\", \"fam_str_dummy2\", \"fam_str_dummy3\",\"fam_str_dummy4\"]\n",
    "\n",
    "X_ = data_df[cols_].copy()\n",
    "\n",
    "## 切片の導入\n",
    "X_.loc[:, \"Intercept\"] = 1\n",
    "\n",
    "## CM視聴有無ダミー\n",
    "z1 = data_df.cm_dummy"
   ]
  },
  {
   "cell_type": "code",
   "execution_count": 16,
   "metadata": {},
   "outputs": [
    {
     "name": "stdout",
     "output_type": "stream",
     "text": [
      "Optimization terminated successfully.\n",
      "         Current function value: 0.542152\n",
      "         Iterations 6\n"
     ]
    }
   ],
   "source": [
    "## StatsModelsのLogitにより傾向スコアを推定\n",
    "glm = sm.Logit(z1, X_)\n",
    "result = glm.fit()\n",
    "ps = result.predict(X_)\n",
    "#ps"
   ]
  },
  {
   "cell_type": "code",
   "execution_count": 17,
   "metadata": {},
   "outputs": [],
   "source": [
    "### Propensity Scoreで補正された目的変数を作成\n",
    "data_df.loc[:, \"ps\"] = ps\n",
    "data_df.loc[:, \"adj_gamedummy\"] = 0\n",
    "data_df.loc[data_df.cm_dummy == 1, \"adj_gamedummy\"] =  data_df.loc[data_df.cm_dummy == 1, \"gamedummy\"] / data_df.loc[data_df.cm_dummy == 1, \"ps\"]\n",
    "data_df.loc[data_df.cm_dummy == 0, \"adj_gamedummy\"] =  -data_df.loc[data_df.cm_dummy == 0, \"gamedummy\"] / (1-data_df.loc[data_df.cm_dummy == 0, \"ps\"])\n",
    "adj_z = data_df[[\"gamedummy\", \"adj_gamedummy\"]]"
   ]
  },
  {
   "cell_type": "code",
   "execution_count": 18,
   "metadata": {},
   "outputs": [],
   "source": [
    "### CMありをtreatment, CMなしをcontrolとする\n",
    "treat = (data_df.cm_dummy == 1).tolist()\n",
    "cv = (data_df.gamedummy == 1).tolist()"
   ]
  },
  {
   "cell_type": "code",
   "execution_count": 19,
   "metadata": {},
   "outputs": [],
   "source": [
    "### train, test半分ずつに分ける\n",
    "train_cv, test_cv, train_treat, test_treat, X_train, X_test, adj_z_train, adj_z_test = train_test_split(cv,treat,X,adj_z,test_size=0.5,random_state=2)"
   ]
  },
  {
   "cell_type": "code",
   "execution_count": 20,
   "metadata": {},
   "outputs": [],
   "source": [
    "### indexをリセット\n",
    "X_train = X_train.reset_index(drop=True)\n",
    "X_test = X_test.reset_index(drop=True)\n",
    "adj_z_train = adj_z_train.reset_index(drop=True)\n",
    "adj_z_test = adj_z_test.reset_index(drop=True)"
   ]
  },
  {
   "cell_type": "code",
   "execution_count": 21,
   "metadata": {},
   "outputs": [],
   "source": [
    "### ランダムフォレスト回帰を用いてZ-Scoreを予測するモデルを構築\n",
    "rf = RandomForestRegressor(n_estimators=1000, max_depth=500)\n",
    "rf.fit(X_train,adj_z_train.adj_gamedummy)\n",
    "\n",
    "### 補正されたZ-Scoreを予測\n",
    "adj_z_score = rf.predict(X_test)"
   ]
  },
  {
   "cell_type": "code",
   "execution_count": 22,
   "metadata": {},
   "outputs": [],
   "source": [
    "adj_z_df = uplift_frame_clf(test_cv, test_treat, adj_z_score)"
   ]
  },
  {
   "cell_type": "code",
   "execution_count": 23,
   "metadata": {
    "scrolled": true
   },
   "outputs": [],
   "source": [
    "#uplift_curve(adj_z_df, \"Adj-Z Score\")"
   ]
  },
  {
   "cell_type": "code",
   "execution_count": null,
   "metadata": {},
   "outputs": [],
   "source": []
  },
  {
   "cell_type": "code",
   "execution_count": 24,
   "metadata": {},
   "outputs": [
    {
     "data": {
      "text/plain": [
       "LinearRegression(copy_X=True, fit_intercept=True, n_jobs=1, normalize=False)"
      ]
     },
     "execution_count": 24,
     "metadata": {},
     "output_type": "execute_result"
    }
   ],
   "source": [
    "lr = LinearRegression()\n",
    "lr.fit(X_train, rf.predict(X_train))"
   ]
  },
  {
   "cell_type": "code",
   "execution_count": 25,
   "metadata": {},
   "outputs": [
    {
     "name": "stdout",
     "output_type": "stream",
     "text": [
      "child_dummy / -0.0845\n",
      "area_kanto / -0.04\n",
      "area_tokai / -0.0282\n",
      "area_keihanshin / 0.0505\n",
      "T / 0.2332\n",
      "F1 / 0.0096\n",
      "F2 / 0.0526\n",
      "F3 / -0.0468\n",
      "M1 / 0.0394\n",
      "M2 / 0.1164\n"
     ]
    }
   ],
   "source": [
    "for feature, coef in zip(X_train.columns, lr.coef_):\n",
    "    print(f\"{feature} / {round(coef, 4)}\")"
   ]
  },
  {
   "cell_type": "code",
   "execution_count": null,
   "metadata": {},
   "outputs": [],
   "source": []
  },
  {
   "cell_type": "code",
   "execution_count": null,
   "metadata": {},
   "outputs": [],
   "source": []
  }
 ],
 "metadata": {
  "kernelspec": {
   "display_name": "Python 3",
   "language": "python",
   "name": "python3"
  },
  "language_info": {
   "codemirror_mode": {
    "name": "ipython",
    "version": 3
   },
   "file_extension": ".py",
   "mimetype": "text/x-python",
   "name": "python",
   "nbconvert_exporter": "python",
   "pygments_lexer": "ipython3",
   "version": "3.6.4"
  }
 },
 "nbformat": 4,
 "nbformat_minor": 2
}
