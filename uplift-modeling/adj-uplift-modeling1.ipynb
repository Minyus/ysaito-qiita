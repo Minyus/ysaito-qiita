{
 "cells": [
  {
   "cell_type": "markdown",
   "metadata": {},
   "source": [
    "# Qiita ~ 傾向スコアを用いて観察データからUpliftをモデリングする~"
   ]
  },
  {
   "cell_type": "code",
   "execution_count": 2,
   "metadata": {},
   "outputs": [],
   "source": [
    "import numpy as np\n",
    "import pandas as pd\n",
    "import sklearn\n",
    "import statsmodels.api as sm\n",
    "import random\n",
    "import sys\n",
    "sys.path.append(\"/home/yuta_saito/notebook/qiita/uplift-modeling/uplift_tools/\")\n",
    "from metrics import *\n",
    "\n",
    "from operator import itemgetter\n",
    "from pandas import DataFrame, Series\n",
    "from plotly.offline import iplot, plot, init_notebook_mode\n",
    "from plotly.graph_objs import Histogram, Box, Scatter, Figure, Layout, Bar\n",
    "\n",
    "from sklearn.cross_validation import train_test_split, cross_val_score, StratifiedKFold\n",
    "from sklearn.decomposition import PCA\n",
    "from sklearn.ensemble import RandomForestRegressor, GradientBoostingRegressor\n",
    "from sklearn.feature_selection import SelectFromModel, SelectKBest\n",
    "from sklearn.kernel_ridge import KernelRidge\n",
    "from sklearn.linear_model import LogisticRegression, LinearRegression, ElasticNet, Ridge\n",
    "from sklearn.metrics import mean_absolute_error, mean_squared_error, r2_score, roc_curve, auc, confusion_matrix, precision_recall_curve\n",
    "from sklearn.model_selection import KFold, TimeSeriesSplit, GridSearchCV, RandomizedSearchCV\n",
    "from sklearn.preprocessing import StandardScaler, RobustScaler, Normalizer\n",
    "from sklearn.pipeline import Pipeline\n",
    "from sklearn.svm import SVR, LinearSVR"
   ]
  },
  {
   "cell_type": "markdown",
   "metadata": {},
   "source": [
    "## Regression Uplift Modeling ~ Separate Model Approach ~"
   ]
  },
  {
   "cell_type": "code",
   "execution_count": 3,
   "metadata": {},
   "outputs": [],
   "source": [
    "### データの読み込み\n",
    "data_df = pd.read_csv('https://github.com/iwanami-datascience/vol3/raw/master/kato%26hoshino/q_data_x.csv')\n",
    "#data_df.head()"
   ]
  },
  {
   "cell_type": "code",
   "execution_count": 4,
   "metadata": {},
   "outputs": [],
   "source": [
    "### 説明変数と目的変数を指定\n",
    "cols = [\"child_dummy\", \"area_kanto\", \"area_tokai\", \"area_keihanshin\", \n",
    "        \"T\", \"F1\", \"F2\", \"F3\", \"M1\", \"M2\"]\n",
    "\n",
    "X = data_df[cols]\n",
    "y = DataFrame(data_df.gamesecond)"
   ]
  },
  {
   "cell_type": "code",
   "execution_count": 5,
   "metadata": {},
   "outputs": [],
   "source": [
    "### CMありをtreatment, CMなしをcontrolとする\n",
    "treat = (data_df.cm_dummy == 1).tolist()"
   ]
  },
  {
   "cell_type": "code",
   "execution_count": 6,
   "metadata": {},
   "outputs": [],
   "source": [
    "### train, test半分ずつに分ける\n",
    "y_train, y_test, train_treat, test_treat, X_train, X_test = train_test_split(y.values,treat,X,test_size=0.5,random_state=2)"
   ]
  },
  {
   "cell_type": "code",
   "execution_count": 7,
   "metadata": {},
   "outputs": [],
   "source": [
    "### indexをリセット\n",
    "X_train = X_train.reset_index(drop=True)\n",
    "X_test = X_test.reset_index(drop=True)"
   ]
  },
  {
   "cell_type": "code",
   "execution_count": 8,
   "metadata": {},
   "outputs": [],
   "source": [
    "### Separate Model Approach\n",
    "## 学習用に用いるデータを生成\n",
    "num = len(y_train)\n",
    "treat_y = np.reshape(np.array([y_train[i] for i in range(num) if train_treat[i] == True]), -1)\n",
    "control_y = np.reshape(np.array([y_test[i] for i in range(num) if train_treat[i] == False]), -1)\n",
    "treat_X = DataFrame([X_train.loc[i] for i in range(num) if train_treat[i] == True])\n",
    "control_X = DataFrame([X_train.loc[i] for i in range(num) if train_treat[i] == False])"
   ]
  },
  {
   "cell_type": "code",
   "execution_count": 9,
   "metadata": {
    "scrolled": true
   },
   "outputs": [
    {
     "data": {
      "text/plain": [
       "GridSearchCV(cv=5, error_score='raise',\n",
       "       estimator=RandomForestRegressor(bootstrap=True, criterion='mse', max_depth=None,\n",
       "           max_features='auto', max_leaf_nodes=None,\n",
       "           min_impurity_decrease=0.0, min_impurity_split=None,\n",
       "           min_samples_leaf=1, min_samples_split=2,\n",
       "           min_weight_fraction_leaf=0.0, n_estimators=500, n_jobs=1,\n",
       "           oob_score=False, random_state=None, verbose=0, warm_start=False),\n",
       "       fit_params=None, iid=True, n_jobs=1,\n",
       "       param_grid={'max_depth': [10, 50, 100, 200, 500]},\n",
       "       pre_dispatch='2*n_jobs', refit=True, return_train_score='warn',\n",
       "       scoring=None, verbose=0)"
      ]
     },
     "execution_count": 9,
     "metadata": {},
     "output_type": "execute_result"
    }
   ],
   "source": [
    "### ランダムフォレスト回帰を用いる\n",
    "params_rf = {\"max_depth\":[10,50,100,200,500]}\n",
    "gs_rf_treat = GridSearchCV(RandomForestRegressor(n_estimators=500),\n",
    "                           param_grid=params_rf,cv=5)\n",
    "gs_rf_control = GridSearchCV(RandomForestRegressor(n_estimators=500),\n",
    "                             param_grid=params_rf,cv=5)\n",
    "\n",
    "### 介入群と非介入群それぞれでパラメータチューニング及びスマホアプリ利用時間を予測するモデルを構築\n",
    "gs_rf_treat.fit(treat_X, treat_y)\n",
    "gs_rf_control.fit(control_X, control_y)"
   ]
  },
  {
   "cell_type": "code",
   "execution_count": 10,
   "metadata": {},
   "outputs": [],
   "source": [
    "### uplift-scoreの算出\n",
    "## CMを見た場合のアプリ利用時間\n",
    "pred_treat = gs_rf_treat.predict(X_test)\n",
    "\n",
    "## CMを見なかった場合のアプリ利用時間\n",
    "pred_control = gs_rf_control.predict(X_test)\n",
    "\n",
    "## 今回は、(CMを見た場合のアプリ利用時間) - (CMを見なかった場合のアプリ利用時間) をuplift_scoreとする。\n",
    "uplift_score = pred_treat - pred_control"
   ]
  },
  {
   "cell_type": "code",
   "execution_count": 11,
   "metadata": {},
   "outputs": [],
   "source": [
    "uplift_df = uplift_frame_reg(y_test.T.tolist()[0], test_treat, uplift_score)"
   ]
  },
  {
   "cell_type": "code",
   "execution_count": 12,
   "metadata": {
    "scrolled": true
   },
   "outputs": [],
   "source": [
    "#uplift_curve(uplift_df)"
   ]
  },
  {
   "cell_type": "code",
   "execution_count": 13,
   "metadata": {},
   "outputs": [
    {
     "data": {
      "text/plain": [
       "LinearRegression(copy_X=True, fit_intercept=True, n_jobs=1, normalize=False)"
      ]
     },
     "execution_count": 13,
     "metadata": {},
     "output_type": "execute_result"
    }
   ],
   "source": [
    "lr = LinearRegression()\n",
    "lr.fit(X_test, uplift_score)"
   ]
  },
  {
   "cell_type": "code",
   "execution_count": 14,
   "metadata": {},
   "outputs": [
    {
     "name": "stdout",
     "output_type": "stream",
     "text": [
      "child_dummy / 977.2688\n",
      "area_kanto / -1516.0004\n",
      "area_tokai / -3030.0692\n",
      "area_keihanshin / 551.5799\n",
      "T / 12165.5144\n",
      "F1 / 1234.037\n",
      "F2 / 1782.0532\n",
      "F3 / 970.1624\n",
      "M1 / 2589.4751\n",
      "M2 / 3362.6475\n"
     ]
    }
   ],
   "source": [
    "for feature, coef in zip(X_train.columns, lr.coef_):\n",
    "    print(f\"{feature} / {round(coef, 4)}\")"
   ]
  },
  {
   "cell_type": "code",
   "execution_count": null,
   "metadata": {},
   "outputs": [],
   "source": []
  },
  {
   "cell_type": "markdown",
   "metadata": {},
   "source": [
    "## Uplift Modeling ~Transformed Outcome Tree Model~"
   ]
  },
  {
   "cell_type": "code",
   "execution_count": 15,
   "metadata": {},
   "outputs": [],
   "source": [
    "### データの読み込み\n",
    "data_df = pd.read_csv('https://github.com/iwanami-datascience/vol3/raw/master/kato%26hoshino/q_data_x.csv')\n",
    "#data_df.head()"
   ]
  },
  {
   "cell_type": "code",
   "execution_count": 16,
   "metadata": {},
   "outputs": [],
   "source": [
    "###傾向スコアを求める\n",
    "## 説明変数\n",
    "cols_ = [\"age\", \"sex\", \"TVwatch_day\", \"marry_dummy\", \"child_dummy\", \"inc\", \"pmoney\", \n",
    "         \"area_kanto\", \"area_tokai\",\"area_keihanshin\", \n",
    "         \"job_dummy1\", \"job_dummy2\", \"job_dummy3\", \"job_dummy4\", \"job_dummy5\", \"job_dummy6\",\n",
    "         \"fam_str_dummy1\", \"fam_str_dummy2\", \"fam_str_dummy3\",\"fam_str_dummy4\"]\n",
    "\n",
    "X_ = data_df[cols_].copy()\n",
    "\n",
    "## 切片の導入\n",
    "X_.loc[:,\"Intercept\"] = 1\n",
    "\n",
    "## CM視聴有無ダミー\n",
    "z1 = data_df.cm_dummy"
   ]
  },
  {
   "cell_type": "code",
   "execution_count": 17,
   "metadata": {},
   "outputs": [
    {
     "name": "stdout",
     "output_type": "stream",
     "text": [
      "Optimization terminated successfully.\n",
      "         Current function value: 0.542152\n",
      "         Iterations 6\n"
     ]
    }
   ],
   "source": [
    "## StatsModelsのLogitにより傾向スコアを推定\n",
    "glm = sm.Logit(z1, X_)\n",
    "result = glm.fit()\n",
    "ps = result.predict(X_)\n",
    "#ps"
   ]
  },
  {
   "cell_type": "code",
   "execution_count": 18,
   "metadata": {
    "scrolled": true
   },
   "outputs": [],
   "source": [
    "### Propensity Scoreで補正された目的変数のカラムを作成\n",
    "data_df.loc[:, \"ps\"] = ps\n",
    "data_df.loc[:, \"adj_gamesecond\"] = 0\n",
    "data_df.loc[data_df.cm_dummy == 1, \"adj_gamesecond\"] =  data_df.loc[data_df.cm_dummy == 1, \"gamesecond\"] / data_df.loc[data_df.cm_dummy == 1, \"ps\"]\n",
    "data_df.loc[data_df.cm_dummy == 0, \"adj_gamesecond\"] =  -data_df.loc[data_df.cm_dummy == 0, \"gamesecond\"] / (1-data_df.loc[data_df.cm_dummy == 0, \"ps\"])\n",
    "adj_y = data_df[[\"gamesecond\", \"adj_gamesecond\"]]"
   ]
  },
  {
   "cell_type": "code",
   "execution_count": 19,
   "metadata": {},
   "outputs": [],
   "source": [
    "### CMありをtreatment, CMなしをcontrolとする\n",
    "treat = (data_df.cm_dummy == 1).tolist()"
   ]
  },
  {
   "cell_type": "code",
   "execution_count": 20,
   "metadata": {},
   "outputs": [],
   "source": [
    "### train, test半分ずつに分ける\n",
    "adj_y_train, adj_y_test, train_treat, test_treat, X_train, X_test = train_test_split(adj_y,treat,X,test_size=0.5,random_state=2)"
   ]
  },
  {
   "cell_type": "code",
   "execution_count": 21,
   "metadata": {},
   "outputs": [],
   "source": [
    "### indexをリセット\n",
    "X_train = X_train.reset_index(drop=True)\n",
    "X_test = X_test.reset_index(drop=True)\n",
    "adj_y_train = adj_y_train.reset_index(drop=True)\n",
    "adj_y_test = adj_y_test.reset_index(drop=True)"
   ]
  },
  {
   "cell_type": "code",
   "execution_count": 22,
   "metadata": {},
   "outputs": [],
   "source": [
    "### ランダムフォレスト回帰を用いる\n",
    "params_rf = {\"max_depth\":[10,50,100,200,500]}\n",
    "gs_rf = GridSearchCV(RandomForestRegressor(n_estimators=500),\n",
    "                     param_grid=params_rf,cv=5)\n",
    "\n",
    "### パラメータチューニング及び補正スマホアプリ利用時間を予測するモデルを構築\n",
    "gs_rf.fit(X_train,adj_y_train.adj_gamesecond)\n",
    "\n",
    "### 補正uplift_scoreを求める\n",
    "adj_uplift_score = gs_rf.predict(X_test)"
   ]
  },
  {
   "cell_type": "code",
   "execution_count": 23,
   "metadata": {},
   "outputs": [],
   "source": [
    "adj_uplift_df = uplift_frame_reg(adj_y_test.gamesecond.tolist(), test_treat, adj_uplift_score)"
   ]
  },
  {
   "cell_type": "code",
   "execution_count": 24,
   "metadata": {
    "scrolled": true
   },
   "outputs": [],
   "source": [
    "#uplift_curve(adj_uplift_df, \"Adj-Uplift Score\")"
   ]
  },
  {
   "cell_type": "code",
   "execution_count": 25,
   "metadata": {},
   "outputs": [
    {
     "data": {
      "text/plain": [
       "LinearRegression(copy_X=True, fit_intercept=True, n_jobs=1, normalize=False)"
      ]
     },
     "execution_count": 25,
     "metadata": {},
     "output_type": "execute_result"
    }
   ],
   "source": [
    "lr = LinearRegression()\n",
    "lr.fit(X_train, gs_rf.predict(X_train))"
   ]
  },
  {
   "cell_type": "code",
   "execution_count": 26,
   "metadata": {},
   "outputs": [
    {
     "name": "stdout",
     "output_type": "stream",
     "text": [
      "child_dummy / -7608.9853\n",
      "area_kanto / -2585.4107\n",
      "area_tokai / -4459.0262\n",
      "area_keihanshin / 11156.2133\n",
      "T / 4450.7031\n",
      "F1 / 412.1042\n",
      "F2 / 3012.7645\n",
      "F3 / -612.99\n",
      "M1 / -5603.3779\n",
      "M2 / 11165.0668\n"
     ]
    }
   ],
   "source": [
    "for feature, coef in zip(X_train.columns, lr.coef_):\n",
    "    print(f\"{feature} / {round(coef, 4)}\")"
   ]
  },
  {
   "cell_type": "code",
   "execution_count": null,
   "metadata": {},
   "outputs": [],
   "source": []
  },
  {
   "cell_type": "code",
   "execution_count": null,
   "metadata": {},
   "outputs": [],
   "source": []
  }
 ],
 "metadata": {
  "kernelspec": {
   "display_name": "Python 3",
   "language": "python",
   "name": "python3"
  },
  "language_info": {
   "codemirror_mode": {
    "name": "ipython",
    "version": 3
   },
   "file_extension": ".py",
   "mimetype": "text/x-python",
   "name": "python",
   "nbconvert_exporter": "python",
   "pygments_lexer": "ipython3",
   "version": "3.6.4"
  }
 },
 "nbformat": 4,
 "nbformat_minor": 2
}
